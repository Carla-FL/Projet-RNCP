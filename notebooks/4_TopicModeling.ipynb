{
 "cells": [
  {
   "cell_type": "code",
   "execution_count": 1,
   "metadata": {},
   "outputs": [],
   "source": [
    "import gensim\n",
    "import pandas as pd\n",
    "from gensim import corpora\n",
    "from gensim import models\n",
    "import pyLDAvis.gensim\n",
    "from gensim.models import LdaModel\n",
    "from gensim.corpora.dictionary import Dictionary\n",
    "import matplotlib.pyplot as plt\n",
    "import numpy as np\n",
    "from gensim.models import CoherenceModel\n",
    "import warnings\n",
    "warnings.filterwarnings(\"ignore\")"
   ]
  },
  {
   "cell_type": "code",
   "execution_count": 2,
   "metadata": {},
   "outputs": [
    {
     "data": {
      "text/html": [
       "<div>\n",
       "<style scoped>\n",
       "    .dataframe tbody tr th:only-of-type {\n",
       "        vertical-align: middle;\n",
       "    }\n",
       "\n",
       "    .dataframe tbody tr th {\n",
       "        vertical-align: top;\n",
       "    }\n",
       "\n",
       "    .dataframe thead th {\n",
       "        text-align: right;\n",
       "    }\n",
       "</style>\n",
       "<table border=\"1\" class=\"dataframe\">\n",
       "  <thead>\n",
       "    <tr style=\"text-align: right;\">\n",
       "      <th></th>\n",
       "      <th>channelId</th>\n",
       "      <th>videoId</th>\n",
       "      <th>author</th>\n",
       "      <th>publishedAt</th>\n",
       "      <th>comment</th>\n",
       "      <th>extractedAt</th>\n",
       "      <th>tokens_clean_lem</th>\n",
       "      <th>comment_clean_lem</th>\n",
       "      <th>sentiment_label</th>\n",
       "    </tr>\n",
       "  </thead>\n",
       "  <tbody>\n",
       "    <tr>\n",
       "      <th>0</th>\n",
       "      <td>UCK3inMNRNAVUleEbpDU1k2g</td>\n",
       "      <td>24Ob5JxhF4s</td>\n",
       "      <td>@SEBFRIT</td>\n",
       "      <td>2025-06-02 19:21:45+00:00</td>\n",
       "      <td>Merci à Odoo le sponsor cette vidéo ! Pour déc...</td>\n",
       "      <td>2025-07-01 11:46:10</td>\n",
       "      <td>['odoo', 'sponsor', 'decouvrir', 'odoo', 'cliq...</td>\n",
       "      <td>odoo sponsor decouvrir odoo clique decouverte ...</td>\n",
       "      <td>Positive</td>\n",
       "    </tr>\n",
       "    <tr>\n",
       "      <th>1</th>\n",
       "      <td>UCK3inMNRNAVUleEbpDU1k2g</td>\n",
       "      <td>24Ob5JxhF4s</td>\n",
       "      <td>@guishoo4700</td>\n",
       "      <td>2025-06-30 18:45:12+00:00</td>\n",
       "      <td>Fait une vidéo sur Tyler the creator stp</td>\n",
       "      <td>2025-07-01 11:46:10</td>\n",
       "      <td>['video_sur', 'tyler_the_creator']</td>\n",
       "      <td>video_sur tyler_the_creator</td>\n",
       "      <td>Neutral</td>\n",
       "    </tr>\n",
       "    <tr>\n",
       "      <th>2</th>\n",
       "      <td>UCK3inMNRNAVUleEbpDU1k2g</td>\n",
       "      <td>24Ob5JxhF4s</td>\n",
       "      <td>@Remi-B-Goode</td>\n",
       "      <td>2025-06-30 16:35:49+00:00</td>\n",
       "      <td>Lol le disclaimer😂</td>\n",
       "      <td>2025-07-01 11:46:10</td>\n",
       "      <td>['mort_de_rire', 'disclaimer']</td>\n",
       "      <td>mort_de_rire disclaimer</td>\n",
       "      <td>Neutral</td>\n",
       "    </tr>\n",
       "    <tr>\n",
       "      <th>3</th>\n",
       "      <td>UCK3inMNRNAVUleEbpDU1k2g</td>\n",
       "      <td>24Ob5JxhF4s</td>\n",
       "      <td>@Guaph</td>\n",
       "      <td>2025-06-29 20:17:58+00:00</td>\n",
       "      <td>où peut-on voir la série \"Earn and Alfred\" ???</td>\n",
       "      <td>2025-07-01 11:46:10</td>\n",
       "      <td>['voir', 'serie', 'earn', 'alfred']</td>\n",
       "      <td>voir serie earn alfred</td>\n",
       "      <td>Neutral</td>\n",
       "    </tr>\n",
       "    <tr>\n",
       "      <th>4</th>\n",
       "      <td>UCK3inMNRNAVUleEbpDU1k2g</td>\n",
       "      <td>24Ob5JxhF4s</td>\n",
       "      <td>@rockman156</td>\n",
       "      <td>2025-06-29 19:05:12+00:00</td>\n",
       "      <td>C'est pas un re upload ? Impression de déjà vu...</td>\n",
       "      <td>2025-07-01 11:46:10</td>\n",
       "      <td>['reupload', 'impression', 'deja_vu', 'critiqu...</td>\n",
       "      <td>reupload impression deja_vu critique foireux i...</td>\n",
       "      <td>Positive</td>\n",
       "    </tr>\n",
       "  </tbody>\n",
       "</table>\n",
       "</div>"
      ],
      "text/plain": [
       "                  channelId      videoId         author  \\\n",
       "0  UCK3inMNRNAVUleEbpDU1k2g  24Ob5JxhF4s       @SEBFRIT   \n",
       "1  UCK3inMNRNAVUleEbpDU1k2g  24Ob5JxhF4s   @guishoo4700   \n",
       "2  UCK3inMNRNAVUleEbpDU1k2g  24Ob5JxhF4s  @Remi-B-Goode   \n",
       "3  UCK3inMNRNAVUleEbpDU1k2g  24Ob5JxhF4s         @Guaph   \n",
       "4  UCK3inMNRNAVUleEbpDU1k2g  24Ob5JxhF4s    @rockman156   \n",
       "\n",
       "                publishedAt  \\\n",
       "0 2025-06-02 19:21:45+00:00   \n",
       "1 2025-06-30 18:45:12+00:00   \n",
       "2 2025-06-30 16:35:49+00:00   \n",
       "3 2025-06-29 20:17:58+00:00   \n",
       "4 2025-06-29 19:05:12+00:00   \n",
       "\n",
       "                                             comment         extractedAt  \\\n",
       "0  Merci à Odoo le sponsor cette vidéo ! Pour déc... 2025-07-01 11:46:10   \n",
       "1           Fait une vidéo sur Tyler the creator stp 2025-07-01 11:46:10   \n",
       "2                                 Lol le disclaimer😂 2025-07-01 11:46:10   \n",
       "3     où peut-on voir la série \"Earn and Alfred\" ??? 2025-07-01 11:46:10   \n",
       "4  C'est pas un re upload ? Impression de déjà vu... 2025-07-01 11:46:10   \n",
       "\n",
       "                                    tokens_clean_lem  \\\n",
       "0  ['odoo', 'sponsor', 'decouvrir', 'odoo', 'cliq...   \n",
       "1                 ['video_sur', 'tyler_the_creator']   \n",
       "2                     ['mort_de_rire', 'disclaimer']   \n",
       "3                ['voir', 'serie', 'earn', 'alfred']   \n",
       "4  ['reupload', 'impression', 'deja_vu', 'critiqu...   \n",
       "\n",
       "                                   comment_clean_lem sentiment_label  \n",
       "0  odoo sponsor decouvrir odoo clique decouverte ...        Positive  \n",
       "1                        video_sur tyler_the_creator         Neutral  \n",
       "2                            mort_de_rire disclaimer         Neutral  \n",
       "3                             voir serie earn alfred         Neutral  \n",
       "4  reupload impression deja_vu critique foireux i...        Positive  "
      ]
     },
     "execution_count": 2,
     "metadata": {},
     "output_type": "execute_result"
    }
   ],
   "source": [
    "df = pd.read_csv('database_sentiment_label.csv',parse_dates=['publishedAt','extractedAt'])\n",
    "df.head()"
   ]
  },
  {
   "cell_type": "code",
   "execution_count": 16,
   "metadata": {},
   "outputs": [
    {
     "data": {
      "text/plain": [
       "(1731, 9)"
      ]
     },
     "execution_count": 16,
     "metadata": {},
     "output_type": "execute_result"
    }
   ],
   "source": [
    "df.shape"
   ]
  },
  {
   "cell_type": "code",
   "execution_count": 3,
   "metadata": {},
   "outputs": [],
   "source": [
    "\"\"\" ________________________________________________________________   Library   ________________________________________________________________\"\"\"\n",
    "\n",
    "import spacy\n",
    "import re\n",
    "import json\n",
    "import pandas as pd\n",
    "import numpy as np\n",
    "import nltk\n",
    "import pickle\n",
    "from nltk.stem.snowball import SnowballStemmer\n",
    "from sklearn.feature_extraction.text import TfidfVectorizer\n",
    "import string\n",
    "from nltk.probability import FreqDist\n",
    "import matplotlib.pyplot as plt\n",
    "from unidecode import unidecode\n",
    "from gensim.models import Word2Vec\n",
    "from gensim.utils import simple_preprocess\n",
    "#from prefect import task, flow, get_run_logger\n",
    "from prefect.cache_policies import NO_CACHE\n",
    "\n",
    "\n",
    "nlp = spacy.load(\"fr_core_news_sm\")\n",
    "stopwords = list(nlp.Defaults.stop_words)\n",
    "punctuation = list(string.punctuation)\n",
    "s_stemmer = SnowballStemmer(\"french\")\n",
    "\n",
    "\"\"\" ________________________________________________________________  nettoyage ________________________________________________________________\"\"\"\n",
    "# ÉCRIRE UN FICHIER AVEC LES EXTRAS STOPWORDS ET LES EXPRESSIONS que l'utilisateur pourra agrémenter : \n",
    "# appel de la fonction s'il y a un input, ouverture et écriture des lignes supplémentaires, sauvegarde du document pour utilisation\n",
    "#@task(name='expressions_frequentes', cache_policy=NO_CACHE, description=\"Remplace les expressions fréquentes par leur version normalisée\")\n",
    "def expressions_frequentes(text, path='extra_expressions.txt'):\n",
    "    with open(path, 'r') as file:\n",
    "        expressions = json.load(file)\n",
    "    for key, value in expressions.items():\n",
    "        text = re.sub(key, value, text.lower())\n",
    "    return text\n",
    "\n",
    "#@task(name='reduire_repetitions', cache_policy=NO_CACHE, description=\"Réduit les répétitions de lettres dans les mots\")\n",
    "def reduire_repetitions(mot):\n",
    "    \"\"\"\n",
    "    nettoyage des répétitions de lettres\n",
    "    On remplace les répétitions de lettres par une seule occurrence\n",
    "    Ex: \"loooove\" devient \"love\"\n",
    "    \"\"\"\n",
    "    return re.sub(r'(.)\\1{2,}', r'\\1', mot)\n",
    "\n",
    "# @task(name='preprocessing_task', description=\"Tâche de prétraitement des données textuelles\")\n",
    "def preprocessing(text, join=True, methode='lemma', extra_stopwords : list = None, extra_punctuation : list = None, extra_pattern : re.Pattern=None, path='extra_expressions.txt'):\n",
    "    if not isinstance(text, str):\n",
    "        raise ValueError(f\"Expected a string, but got {type(text)} : {text}\")\n",
    "    extra_stopwords = extra_stopwords or []\n",
    "    extra_punctuation = extra_punctuation or []\n",
    "    nondesiredtokens = set(punctuation + stopwords + extra_punctuation + extra_stopwords)\n",
    "    \n",
    "    text = expressions_frequentes(text, path=path)  # Remplacer les expressions fréquentes par leur version normalisée\n",
    "\n",
    "    # pattern = re.compile(r\"(http://\\S+|@\\S+|.*\\d.*|.*\\#.*)\") \n",
    "    pattern = re.compile(r'http.+')\n",
    "\n",
    "    # Tokenisation et nettoyage en une seule passe\n",
    "    if methode == 'lemma':\n",
    "        tokens = [unidecode(pattern.sub(\"\", token.lemma_.lower()))  for token in nlp(text) if not token.is_stop and not token.is_digit and token.text.lower() not in nondesiredtokens and len(token) > 3]\n",
    "    elif methode == 'stem':\n",
    "        tokens = [unidecode(pattern.sub(\"\", s_stemmer.stem(token.text.lower())))  for token in nlp(text) if not token.is_stop and not token.is_digit and token.text.lower() not in nondesiredtokens and len(token) > 3]\n",
    "    \n",
    "    # Filtrer les tokens vides après suppression des liens/mentions\n",
    "    cleaned_tokens = [reduire_repetitions(token) for token in tokens if len(token)>3]\n",
    "    # re.sub(r'\\-{1,}|\\\\{1,}|\\/{1,}|\\_{1,}|~{1,}|\\*{1,}|\\?{1,}|\\={1,}|\\:{1,}|\\){1,}|\\({1,}', '',\n",
    "    \n",
    "    return \" \".join(cleaned_tokens) if join else cleaned_tokens\n",
    "\n",
    "def main_transformation(df, comment = 'comment', path='extra_expressions.txt'):\n",
    "    # logger= get_run_logger()\n",
    "    try:\n",
    "        # df, video_id, channel_id = Extraction.main_extraction()  # Assuming main() returns a DataFrame with a 'comment' column\n",
    "        df = df.dropna(subset=[comment])  # Drop rows where 'comment' is NaN\n",
    "        df['tokens_clean_lem'] = df[comment].apply(lambda x: preprocessing(x, join=False, path=path))\n",
    "        df['comment_clean_lem'] = df[comment].astype(str).apply(lambda x: preprocessing(x, join=True, path=path))\n",
    "        #logger.info(\"Nettoyage des données terminée avec succès.\")\n",
    "        return df\n",
    "    except Exception as e:\n",
    "        raise ValueError(f\"Erreur lors de la transformation des données : {e}\")\n",
    "\n",
    "test1 = main_transformation(df.drop(['tokens_clean_lem','comment_clean_lem'], axis=1 ), comment='comment', path='/Users/carla/Desktop/GitHub/Projet-RNCP/extra_expressions.txt')\n"
   ]
  },
  {
   "cell_type": "code",
   "execution_count": 5,
   "metadata": {},
   "outputs": [
    {
     "data": {
      "text/html": [
       "<div>\n",
       "<style scoped>\n",
       "    .dataframe tbody tr th:only-of-type {\n",
       "        vertical-align: middle;\n",
       "    }\n",
       "\n",
       "    .dataframe tbody tr th {\n",
       "        vertical-align: top;\n",
       "    }\n",
       "\n",
       "    .dataframe thead th {\n",
       "        text-align: right;\n",
       "    }\n",
       "</style>\n",
       "<table border=\"1\" class=\"dataframe\">\n",
       "  <thead>\n",
       "    <tr style=\"text-align: right;\">\n",
       "      <th></th>\n",
       "      <th>channelId</th>\n",
       "      <th>videoId</th>\n",
       "      <th>author</th>\n",
       "      <th>publishedAt</th>\n",
       "      <th>comment</th>\n",
       "      <th>extractedAt</th>\n",
       "      <th>sentiment_label</th>\n",
       "      <th>tokens_clean_lem</th>\n",
       "      <th>comment_clean_lem</th>\n",
       "    </tr>\n",
       "  </thead>\n",
       "  <tbody>\n",
       "    <tr>\n",
       "      <th>0</th>\n",
       "      <td>UCK3inMNRNAVUleEbpDU1k2g</td>\n",
       "      <td>24Ob5JxhF4s</td>\n",
       "      <td>@SEBFRIT</td>\n",
       "      <td>2025-06-02 19:21:45+00:00</td>\n",
       "      <td>Merci à Odoo le sponsor cette vidéo ! Pour déc...</td>\n",
       "      <td>2025-07-01 11:46:10</td>\n",
       "      <td>Positive</td>\n",
       "      <td>[odoo, sponsor, video, decouvrir, odoo, clique...</td>\n",
       "      <td>odoo sponsor video decouvrir odoo clique decou...</td>\n",
       "    </tr>\n",
       "    <tr>\n",
       "      <th>1</th>\n",
       "      <td>UCK3inMNRNAVUleEbpDU1k2g</td>\n",
       "      <td>24Ob5JxhF4s</td>\n",
       "      <td>@guishoo4700</td>\n",
       "      <td>2025-06-30 18:45:12+00:00</td>\n",
       "      <td>Fait une vidéo sur Tyler the creator stp</td>\n",
       "      <td>2025-07-01 11:46:10</td>\n",
       "      <td>Neutral</td>\n",
       "      <td>[video, tyler, creator]</td>\n",
       "      <td>video tyler creator</td>\n",
       "    </tr>\n",
       "    <tr>\n",
       "      <th>2</th>\n",
       "      <td>UCK3inMNRNAVUleEbpDU1k2g</td>\n",
       "      <td>24Ob5JxhF4s</td>\n",
       "      <td>@Remi-B-Goode</td>\n",
       "      <td>2025-06-30 16:35:49+00:00</td>\n",
       "      <td>Lol le disclaimer😂</td>\n",
       "      <td>2025-07-01 11:46:10</td>\n",
       "      <td>Neutral</td>\n",
       "      <td>[disclaimer]</td>\n",
       "      <td>disclaimer</td>\n",
       "    </tr>\n",
       "    <tr>\n",
       "      <th>3</th>\n",
       "      <td>UCK3inMNRNAVUleEbpDU1k2g</td>\n",
       "      <td>24Ob5JxhF4s</td>\n",
       "      <td>@Guaph</td>\n",
       "      <td>2025-06-29 20:17:58+00:00</td>\n",
       "      <td>où peut-on voir la série \"Earn and Alfred\" ???</td>\n",
       "      <td>2025-07-01 11:46:10</td>\n",
       "      <td>Neutral</td>\n",
       "      <td>[voir, serie, earn, alfred]</td>\n",
       "      <td>voir serie earn alfred</td>\n",
       "    </tr>\n",
       "    <tr>\n",
       "      <th>4</th>\n",
       "      <td>UCK3inMNRNAVUleEbpDU1k2g</td>\n",
       "      <td>24Ob5JxhF4s</td>\n",
       "      <td>@rockman156</td>\n",
       "      <td>2025-06-29 19:05:12+00:00</td>\n",
       "      <td>C'est pas un re upload ? Impression de déjà vu...</td>\n",
       "      <td>2025-07-01 11:46:10</td>\n",
       "      <td>Positive</td>\n",
       "      <td>[upload, impression, critique, foireux, impres...</td>\n",
       "      <td>upload impression critique foireux impression</td>\n",
       "    </tr>\n",
       "  </tbody>\n",
       "</table>\n",
       "</div>"
      ],
      "text/plain": [
       "                  channelId      videoId         author  \\\n",
       "0  UCK3inMNRNAVUleEbpDU1k2g  24Ob5JxhF4s       @SEBFRIT   \n",
       "1  UCK3inMNRNAVUleEbpDU1k2g  24Ob5JxhF4s   @guishoo4700   \n",
       "2  UCK3inMNRNAVUleEbpDU1k2g  24Ob5JxhF4s  @Remi-B-Goode   \n",
       "3  UCK3inMNRNAVUleEbpDU1k2g  24Ob5JxhF4s         @Guaph   \n",
       "4  UCK3inMNRNAVUleEbpDU1k2g  24Ob5JxhF4s    @rockman156   \n",
       "\n",
       "                publishedAt  \\\n",
       "0 2025-06-02 19:21:45+00:00   \n",
       "1 2025-06-30 18:45:12+00:00   \n",
       "2 2025-06-30 16:35:49+00:00   \n",
       "3 2025-06-29 20:17:58+00:00   \n",
       "4 2025-06-29 19:05:12+00:00   \n",
       "\n",
       "                                             comment         extractedAt  \\\n",
       "0  Merci à Odoo le sponsor cette vidéo ! Pour déc... 2025-07-01 11:46:10   \n",
       "1           Fait une vidéo sur Tyler the creator stp 2025-07-01 11:46:10   \n",
       "2                                 Lol le disclaimer😂 2025-07-01 11:46:10   \n",
       "3     où peut-on voir la série \"Earn and Alfred\" ??? 2025-07-01 11:46:10   \n",
       "4  C'est pas un re upload ? Impression de déjà vu... 2025-07-01 11:46:10   \n",
       "\n",
       "  sentiment_label                                   tokens_clean_lem  \\\n",
       "0        Positive  [odoo, sponsor, video, decouvrir, odoo, clique...   \n",
       "1         Neutral                            [video, tyler, creator]   \n",
       "2         Neutral                                       [disclaimer]   \n",
       "3         Neutral                        [voir, serie, earn, alfred]   \n",
       "4        Positive  [upload, impression, critique, foireux, impres...   \n",
       "\n",
       "                                   comment_clean_lem  \n",
       "0  odoo sponsor video decouvrir odoo clique decou...  \n",
       "1                                video tyler creator  \n",
       "2                                         disclaimer  \n",
       "3                             voir serie earn alfred  \n",
       "4      upload impression critique foireux impression  "
      ]
     },
     "execution_count": 5,
     "metadata": {},
     "output_type": "execute_result"
    }
   ],
   "source": [
    "test1.head()"
   ]
  },
  {
   "cell_type": "markdown",
   "metadata": {},
   "source": [
    "# sklearn"
   ]
  },
  {
   "cell_type": "code",
   "execution_count": 6,
   "metadata": {},
   "outputs": [
    {
     "name": "stdout",
     "output_type": "stream",
     "text": [
      "THE TOP 15 WORDS FOR TOPIC #0\n",
      "['childish', 'aime_bien', 'super', 'rien', 'trouver', 'travail', 'pouce', 'trop', 'thank', 'artiste', 'cheveux', 'incroyable', 'vrai', 'bien', 'coupe']\n",
      "\n",
      "\n",
      "THE TOP 15 WORDS FOR TOPIC #1\n",
      "['part', 'cool', 'savoir', 'album', 'aimer', 'regarder', 'jamais', 'moche', 'voir', 'beaucoup', 'connaitre', 'vraiment', 'cheveux', 'arriere', 'artiste']\n",
      "\n",
      "\n",
      "THE TOP 15 WORDS FOR TOPIC #2\n",
      "['vrai', 'aimer', 'jour', 'vraiment', 'oeuvre', 'clip', 'incroyable', 'donner', 'prochain', 'artiste', 'chef', 'frank', 'ocean', 'fois', 'video_sur']\n",
      "\n",
      "\n",
      "THE TOP 15 WORDS FOR TOPIC #3\n",
      "['donald_glover', 'salut', 'temps', 'trop', 'prononciation', 'histoire', 'vraiment', 'troy', 'bien', 'prononcer', 'dire', 'video_sur', 'musique', 'super', 'childish']\n",
      "\n",
      "\n",
      "THE TOP 15 WORDS FOR TOPIC #4\n",
      "['minute', 'album', 'mort_de_rire', 'going', 'clip', 'gambino', 'tyler', 'deserve', 'video_sur', 'incroyable', 'chill', 'dish', 'creator', 'more', 'artiste']\n",
      "\n",
      "\n",
      "THE TOP 15 WORDS FOR TOPIC #5\n",
      "['disclaimer', 'entendre', 'musique', 'dire', 'trouver', 'decouvrir', 'just', 'earned', 'subscriber', 'savoir', 'choquer', 'connaitre', 'artiste', 'jamais', 'gars']\n",
      "\n",
      "\n",
      "THE TOP 15 WORDS FOR TOPIC #6\n",
      "['community', 'bien', 'vraiment', 'serie', 'kendrick_lamar', 'interessant', 'coiffure', 'donald_glover', 'trop', 'mile', 'childish_gambino', 'super', 'artiste', 'tyler_the_creator', 'video_sur']\n",
      "\n",
      "\n",
      "THE TOP 15 WORDS FOR TOPIC #7\n",
      "['cheveu', 'chose', 'petit', 'smith', 'donald_glover', 'jour', 'annee', 'voir', 'cote', 'artiste', 'genial', 'coupe', 'video_sur', 'flow', 'serie']\n",
      "\n",
      "\n"
     ]
    }
   ],
   "source": [
    "from sklearn.feature_extraction.text import CountVectorizer\n",
    "from sklearn.decomposition import LatentDirichletAllocation\n",
    "cv = CountVectorizer()\n",
    "dtm = cv.fit_transform(df['tokens_clean_lem'])\n",
    "\n",
    "LDA = LatentDirichletAllocation(n_components=8,random_state=42, learning_method='batch', evaluate_every=1)\n",
    "LDA.fit(dtm)\n",
    "\n",
    "for index,topic in enumerate(LDA.components_):\n",
    "    print(f'THE TOP 15 WORDS FOR TOPIC #{index}')\n",
    "    print([cv.get_feature_names_out()[i] for i in topic.argsort()[-15:]])\n",
    "    print('\\n')"
   ]
  },
  {
   "cell_type": "markdown",
   "metadata": {},
   "source": [
    "# amélioration"
   ]
  },
  {
   "cell_type": "code",
   "execution_count": 7,
   "metadata": {},
   "outputs": [],
   "source": [
    "from sklearn.decomposition import LatentDirichletAllocation\n",
    "from gensim.models.coherencemodel import CoherenceModel\n",
    "corpus = get_corpus(df['tokens_clean_lem'])\n",
    "dictionary = corpora.Dictionary(corpus)\n",
    "\n",
    "coherences = []\n",
    "perplexities = []\n",
    "log_vraissemblance = []\n",
    "scores = dict()\n",
    "ks = list(range(3, 30+1))\n",
    "\n",
    "for k in ks:\n",
    "    lda = LatentDirichletAllocation(n_components=k, max_iter=10, learning_method='batch', random_state=0)\n",
    "    lda.fit(dtm)  \n",
    "\n",
    "    perplexities.append(lda.perplexity(dtm))\n",
    "    log_vraissemblance.append(lda.score(dtm))\n",
    "\n",
    "    # Extraire topics\n",
    "    topics = [[cv.get_feature_names_out()[i] for i in topic.argsort()[-15:]] for topic in lda.components_]\n",
    "    cm = CoherenceModel(topics=topics, dictionary=dictionary, texts=corpus ,coherence='c_v') # model=model, texts=corpus, dictionary=dictionary, coherence='c_v'\n",
    "    coherences.append(cm.get_coherence())\n",
    "    # scores[k] = {'perplexity': lda.perplexity(dtm), 'coherence': cm.get_coherence()}\n",
    "    scores[cm.get_coherence()] = lda.perplexity(dtm)\n",
    "    # dictionnaire avec la cohérence comme clé et perplexity comme valeur"
   ]
  },
  {
   "cell_type": "code",
   "execution_count": 11,
   "metadata": {},
   "outputs": [
    {
     "data": {
      "text/plain": [
       "[-85994.95379008206,\n",
       " -87045.98455265335,\n",
       " -87614.27506333984,\n",
       " -88163.04238600691,\n",
       " -88578.69398294714,\n",
       " -88883.8757466886,\n",
       " -89359.1302369664,\n",
       " -89336.53277558781,\n",
       " -89642.6418443424,\n",
       " -89982.64015183965,\n",
       " -89881.97814099716,\n",
       " -90364.6489786639,\n",
       " -90603.89750721547,\n",
       " -90546.27692080986,\n",
       " -90648.7589070313,\n",
       " -90866.97488777031,\n",
       " -91415.53972216234,\n",
       " -91291.3827511059,\n",
       " -91475.87770791037,\n",
       " -91528.68385371742,\n",
       " -91823.0529876163,\n",
       " -92079.07121867493,\n",
       " -92446.72366405229,\n",
       " -92483.51803247316,\n",
       " -92681.12628901296,\n",
       " -92844.3553756439,\n",
       " -92571.59476585814,\n",
       " -93036.97670261533]"
      ]
     },
     "execution_count": 11,
     "metadata": {},
     "output_type": "execute_result"
    }
   ],
   "source": [
    "log_vraissemblance"
   ]
  },
  {
   "cell_type": "code",
   "execution_count": 8,
   "metadata": {},
   "outputs": [
    {
     "data": {
      "text/plain": [
       "[0.3710645326180229,\n",
       " 0.3549280444593066,\n",
       " 0.34445073165583795,\n",
       " 0.3486441234326481,\n",
       " 0.3760465886846968,\n",
       " 0.38833992552083585,\n",
       " 0.40072406439680885,\n",
       " 0.3949413057797672,\n",
       " 0.3803445951392185,\n",
       " 0.37338141458736485,\n",
       " 0.3871324144642521,\n",
       " 0.41126572583310067,\n",
       " 0.390388962694432,\n",
       " 0.39465819759592224,\n",
       " 0.36515159499482847,\n",
       " 0.386332305130044,\n",
       " 0.3658030824278613,\n",
       " 0.37605329618955674,\n",
       " 0.3879853214481045,\n",
       " 0.39305374852654873,\n",
       " 0.38666125506995713,\n",
       " 0.39484253177400225,\n",
       " 0.38112350098618747,\n",
       " 0.4098794315591587,\n",
       " 0.3992174123881585,\n",
       " 0.3761731894805523,\n",
       " 0.3837536195444813,\n",
       " 0.3949853229187824]"
      ]
     },
     "execution_count": 8,
     "metadata": {},
     "output_type": "execute_result"
    }
   ],
   "source": [
    "coherences"
   ]
  },
  {
   "cell_type": "code",
   "execution_count": 9,
   "metadata": {},
   "outputs": [
    {
     "data": {
      "text/plain": [
       "[2254.901018242916,\n",
       " 2478.0463420126403,\n",
       " 2607.764016519307,\n",
       " 2739.465919658443,\n",
       " 2843.629743792574,\n",
       " 2922.622604883573,\n",
       " 3050.0287265855736,\n",
       " 3043.846913325457,\n",
       " 3128.6620529212664,\n",
       " 3225.6401570204703,\n",
       " 3196.6190971200494,\n",
       " 3338.1915979000287,\n",
       " 3410.6729151269396,\n",
       " 3393.0739292864614,\n",
       " 3424.438053905269,\n",
       " 3492.1912760036244,\n",
       " 3668.4933926884974,\n",
       " 3627.827218927188,\n",
       " 3688.420681742603,\n",
       " 3705.9492976466186,\n",
       " 3805.2005993197754,\n",
       " 3893.679994651118,\n",
       " 4024.350627952594,\n",
       " 4037.6670482625923,\n",
       " 4109.941808076299,\n",
       " 4170.617148561517,\n",
       " 4069.7225641669556,\n",
       " 4243.371379227761]"
      ]
     },
     "execution_count": 9,
     "metadata": {},
     "output_type": "execute_result"
    }
   ],
   "source": [
    "perplexities"
   ]
  },
  {
   "cell_type": "code",
   "execution_count": 10,
   "metadata": {},
   "outputs": [
    {
     "data": {
      "text/plain": [
       "{0.3710645326180229: 2254.901018242916,\n",
       " 0.3549280444593066: 2478.0463420126403,\n",
       " 0.34445073165583795: 2607.764016519307,\n",
       " 0.3486441234326481: 2739.465919658443,\n",
       " 0.3760465886846968: 2843.629743792574,\n",
       " 0.38833992552083585: 2922.622604883573,\n",
       " 0.40072406439680885: 3050.0287265855736,\n",
       " 0.3949413057797672: 3043.846913325457,\n",
       " 0.3803445951392185: 3128.6620529212664,\n",
       " 0.37338141458736485: 3225.6401570204703,\n",
       " 0.3871324144642521: 3196.6190971200494,\n",
       " 0.41126572583310067: 3338.1915979000287,\n",
       " 0.390388962694432: 3410.6729151269396,\n",
       " 0.39465819759592224: 3393.0739292864614,\n",
       " 0.36515159499482847: 3424.438053905269,\n",
       " 0.386332305130044: 3492.1912760036244,\n",
       " 0.3658030824278613: 3668.4933926884974,\n",
       " 0.37605329618955674: 3627.827218927188,\n",
       " 0.3879853214481045: 3688.420681742603,\n",
       " 0.39305374852654873: 3705.9492976466186,\n",
       " 0.38666125506995713: 3805.2005993197754,\n",
       " 0.39484253177400225: 3893.679994651118,\n",
       " 0.38112350098618747: 4024.350627952594,\n",
       " 0.4098794315591587: 4037.6670482625923,\n",
       " 0.3992174123881585: 4109.941808076299,\n",
       " 0.3761731894805523: 4170.617148561517,\n",
       " 0.3837536195444813: 4069.7225641669556,\n",
       " 0.3949853229187824: 4243.371379227761}"
      ]
     },
     "execution_count": 10,
     "metadata": {},
     "output_type": "execute_result"
    }
   ],
   "source": [
    "scores"
   ]
  },
  {
   "cell_type": "code",
   "execution_count": 13,
   "metadata": {},
   "outputs": [
    {
     "data": {
      "image/png": "[encoded data removed]",
      "text/plain": [
       "<Figure size 1200x600 with 2 Axes>"
      ]
     },
     "metadata": {},
     "output_type": "display_data"
    }
   ],
   "source": [
    "# graphque de la cohérence et de la perplexité\n",
    "plt.figure(figsize=(12, 6))\n",
    "plt.subplot(1, 2, 1)\n",
    "plt.plot(ks, coherences, marker='o')\n",
    "plt.title('Coherence Score vs Number of Topics')\n",
    "plt.xlabel('Number of Topics')\n",
    "plt.ylabel('Coherence Score')\n",
    "plt.subplot(1, 2, 2)\n",
    "plt.plot(ks, perplexities, marker='o')\n",
    "plt.title('Perplexity vs Number of Topics')\n",
    "plt.xlabel('Number of Topics')\n",
    "plt.ylabel('Perplexity')\n",
    "plt.tight_layout()\n",
    "# plt.subplot(1, 2, 1)\n",
    "# plt.plot(ks, log_vraissemblance, marker='o')\n",
    "# plt.title('Log Likelihood vs Number of Topics')\n",
    "# plt.xlabel('Number of Topics')\n",
    "# plt.ylabel('Log Likelihood')\n",
    "# plt.tight_layout()\n",
    "plt.show()"
   ]
  },
  {
   "cell_type": "code",
   "execution_count": 15,
   "metadata": {},
   "outputs": [
    {
     "data": {
      "image/png": "[encoded data removed]",
      "text/plain": [
       "<Figure size 1200x600 with 1 Axes>"
      ]
     },
     "metadata": {},
     "output_type": "display_data"
    }
   ],
   "source": [
    "plt.figure(figsize=(12, 6))\n",
    "plt.plot(ks, log_vraissemblance, marker='o')\n",
    "plt.title('Log Likelihood vs Number of Topics')\n",
    "plt.xlabel('Number of Topics')\n",
    "plt.ylabel('Log Likelihood')\n",
    "plt.tight_layout()\n",
    "plt.show()"
   ]
  },
  {
   "cell_type": "code",
   "execution_count": 11,
   "metadata": {},
   "outputs": [],
   "source": [
    "# # selectionner le meilleur nombre de topics qui correspond au min de perplexité et au max de cohérence\n",
    "# best_k = ks[np.argmax(coherences)]\n",
    "# print(f'Le meilleur nombre de topics est {best_k} avec une cohérence de {max(coherences)} et une perplexité de {min(perplexities)}')"
   ]
  },
  {
   "cell_type": "code",
   "execution_count": 50,
   "metadata": {},
   "outputs": [
    {
     "name": "stdout",
     "output_type": "stream",
     "text": [
      "scrore de cohérence 0.40072406439680885 assoicé au score de perplexité 3050.0287265855736, soit un seuil de 3050.4294506499705\n",
      "scrore de cohérence 0.41126572583310067 assoicé au score de perplexité 3338.1915979000287, soit un seuil de 3338.6028636258616\n",
      "scrore de cohérence 0.4098794315591587 assoicé au score de perplexité 4037.6670482625923, soit un seuil de 4038.0769276941514\n",
      "le seuil 2255.601018242916\n"
     ]
    }
   ],
   "source": [
    "coherences_stock = []\n",
    "perplexity_stock = []\n",
    "seuils_stocks = []\n",
    "for c in coherences:\n",
    "    if c >= 0.4 and c <= 0.7:\n",
    "        # print(c)\n",
    "        coherences_stock.append(c)\n",
    "        perplexity_stock.append(scores.get(c))\n",
    "        seuils_stocks.append(c+scores.get(c))\n",
    "        print(f'scrore de cohérence {c} assoicé au score de perplexité {scores.get(c)}, soit un seuil de {c+scores.get(c)}')\n",
    "\n",
    "# trouver une formule pour trouver le nombre de topic optimal en se basant sur la somme entre cohérence et perplexity\n",
    "seuil = 0.7 + min(perplexities)\n",
    "print(f'le seuil {seuil}')"
   ]
  },
  {
   "cell_type": "code",
   "execution_count": 44,
   "metadata": {},
   "outputs": [
    {
     "data": {
      "text/plain": [
       "2254.901018242916"
      ]
     },
     "execution_count": 44,
     "metadata": {},
     "output_type": "execute_result"
    }
   ],
   "source": [
    "min(perplexities) # 2254.901018242916"
   ]
  },
  {
   "cell_type": "code",
   "execution_count": 41,
   "metadata": {},
   "outputs": [
    {
     "data": {
      "text/plain": [
       "2255.601018242916"
      ]
     },
     "execution_count": 41,
     "metadata": {},
     "output_type": "execute_result"
    }
   ],
   "source": [
    "seuil = 0.7 + min(perplexities)\n",
    "seuil"
   ]
  },
  {
   "cell_type": "code",
   "execution_count": null,
   "metadata": {},
   "outputs": [],
   "source": [
    "diff"
   ]
  },
  {
   "cell_type": "code",
   "execution_count": 53,
   "metadata": {},
   "outputs": [
    {
     "name": "stdout",
     "output_type": "stream",
     "text": [
      "0\n"
     ]
    },
    {
     "ename": "TypeError",
     "evalue": "'NoneType' object is not subscriptable",
     "output_type": "error",
     "traceback": [
      "\u001b[0;31m---------------------------------------------------------------------------\u001b[0m",
      "\u001b[0;31mTypeError\u001b[0m                                 Traceback (most recent call last)",
      "Cell \u001b[0;32mIn[53], line 9\u001b[0m\n\u001b[1;32m      7\u001b[0m bks \u001b[38;5;241m=\u001b[39m np\u001b[38;5;241m.\u001b[39margmax(coherences)\n\u001b[1;32m      8\u001b[0m \u001b[38;5;28mprint\u001b[39m(bks)\n\u001b[0;32m----> 9\u001b[0m \u001b[38;5;28;01mif\u001b[39;00m \u001b[43mcoherences\u001b[49m\u001b[43m[\u001b[49m\u001b[43mbks\u001b[49m\u001b[43m]\u001b[49m \u001b[38;5;241m>\u001b[39m\u001b[38;5;241m=\u001b[39m \u001b[38;5;241m0.4\u001b[39m \u001b[38;5;129;01mand\u001b[39;00m coherences[bks] \u001b[38;5;241m<\u001b[39m\u001b[38;5;241m=\u001b[39m \u001b[38;5;241m0.7\u001b[39m:\n\u001b[1;32m     10\u001b[0m     \u001b[38;5;28mprint\u001b[39m(\u001b[38;5;124mf\u001b[39m\u001b[38;5;124m'\u001b[39m\u001b[38;5;124mLe meilleur nombre de topics est \u001b[39m\u001b[38;5;132;01m{\u001b[39;00mbks\u001b[38;5;132;01m}\u001b[39;00m\u001b[38;5;124m avec une cohérence de \u001b[39m\u001b[38;5;132;01m{\u001b[39;00m(coherences[bks])\u001b[38;5;132;01m}\u001b[39;00m\u001b[38;5;124m \u001b[39m\u001b[38;5;124m'\u001b[39m)\n\u001b[1;32m     11\u001b[0m     best_ks\u001b[38;5;241m.\u001b[39mappend(bks)\n",
      "\u001b[0;31mTypeError\u001b[0m: 'NoneType' object is not subscriptable"
     ]
    }
   ],
   "source": [
    "# # on selectionne le cohérences comprises entre 0.4 et 0.7 (plus c'est proche de 0.7 mieux c'est), tout en minimisant la perplexité\n",
    "# coherences_stock = coherences\n",
    "# best_ks =[]\n",
    "\n",
    "# while True:\n",
    "#     # bks = ks[np.argmax(coherences)]\n",
    "#     bks = np.argmax(coherences)\n",
    "#     print(bks)\n",
    "#     if coherences[bks] >= 0.4 and coherences[bks] <= 0.7:\n",
    "#         print(f'Le meilleur nombre de topics est {bks} avec une cohérence de {(coherences[bks])} ')\n",
    "#         best_ks.append(bks)\n",
    "#         coherences_stock = coherences_stock.remove(coherences_stock[bks])\n",
    "#     else : \n",
    "#         print(f'L\\'intervalle de topic ne peremt pas d\\'obtenir une bonne cohérence entre 0.4 et 0.7')\n",
    "\n",
    "# best_ks"
   ]
  },
  {
   "cell_type": "markdown",
   "metadata": {},
   "source": [
    "# gensim"
   ]
  },
  {
   "cell_type": "code",
   "execution_count": 4,
   "metadata": {},
   "outputs": [
    {
     "name": "stdout",
     "output_type": "stream",
     "text": [
      "Number of unique tokens: 85\n",
      "Number of documents: 1730\n"
     ]
    }
   ],
   "source": [
    "# on créé un coprus à partir d'un texte (liste de listes de tokens)\n",
    "corpus = [ doc for doc  in test1['tokens_clean_lem']]\n",
    "dictionary = corpora.Dictionary(corpus)\n",
    "# filtres les mots qui apparaissent dans moins de 20 documents ou plus de 50% des documents\n",
    "dictionary.filter_extremes(no_below=20, no_above=0.5)\n",
    "\n",
    "# Bag-of-words representation of the documents.\n",
    "corpus_vect = [dictionary.doc2bow(doc) for doc in corpus]\n",
    "\n",
    "print('Number of unique tokens: %d' % len(dictionary))\n",
    "print('Number of documents: %d' % len(corpus_vect))\n",
    "\n",
    "# Entrainement \n",
    "# Set training parameters.\n",
    "num_topics = 8\n",
    "chunksize = 2000 # controls how many documents are processed at a time in the training algorithm. Increasing chunksize will speed up training, at least as long as the chunk of documents easily fit into memory\n",
    "passes = 50 # controls how often we train the model on the entire corpus = “epochs”\n",
    "iterations = 400 # is somewhat technical, but essentially it controls how often we repeat a particular loop over each document\n",
    "# It is important to set the number of “passes” and “iterations” high enough.\n",
    "eval_every = None  # Don't evaluate model perplexity, takes too much time.\n",
    "\n",
    "# Make an index to word dictionary.\n",
    "temp = dictionary[0]  # This is only to \"load\" the dictionary.\n",
    "id2word = dictionary.id2token\n",
    "\n",
    "model = LdaModel(\n",
    "    corpus=corpus_vect,\n",
    "    id2word=id2word,\n",
    "    chunksize=chunksize,\n",
    "    alpha='auto',\n",
    "    eta='auto',\n",
    "    iterations=iterations,\n",
    "    num_topics=num_topics,\n",
    "    passes=passes,\n",
    "    eval_every=eval_every\n",
    ")\n"
   ]
  },
  {
   "cell_type": "code",
   "execution_count": 7,
   "metadata": {},
   "outputs": [
    {
     "name": "stdout",
     "output_type": "stream",
     "text": [
      "***********\n",
      "* topic 1 *\n",
      "***********\n",
      "1 : 0.111*\"video\" + 0.094*\"aimer\" + 0.063*\"arriere\" + 0.060*\"cheveux\" + 0.054*\"beaucoup\" + 0.052*\"genie\" + 0.051*\"rien\" + 0.051*\"vraiment\" + 0.048*\"adorer\" + 0.046*\"artiste\"\n",
      "\n",
      "***********\n",
      "* topic 2 *\n",
      "***********\n",
      "2 : 0.266*\"coupe\" + 0.142*\"vrai\" + 0.136*\"cheveux\" + 0.096*\"bien\" + 0.090*\"trop\" + 0.061*\"choquer\" + 0.048*\"temps\" + 0.043*\"jour\" + 0.038*\"nouveau\" + 0.029*\"gars\"\n",
      "\n",
      "***********\n",
      "* topic 3 *\n",
      "***********\n",
      "3 : 0.409*\"video\" + 0.164*\"faire\" + 0.084*\"creator\" + 0.080*\"tyler\" + 0.068*\"incroyable\" + 0.036*\"histoire\" + 0.029*\"more\" + 0.027*\"travail\" + 0.023*\"prochain\" + 0.019*\"jour\"\n",
      "\n",
      "***********\n",
      "* topic 4 *\n",
      "***********\n",
      "4 : 0.138*\"petit\" + 0.107*\"video\" + 0.101*\"prononcer\" + 0.092*\"clip\" + 0.083*\"film\" + 0.076*\"passer\" + 0.060*\"cool\" + 0.058*\"acteur\" + 0.048*\"plaisir\" + 0.044*\"voir\"\n",
      "\n",
      "***********\n",
      "* topic 5 *\n",
      "***********\n",
      "5 : 0.241*\"childish\" + 0.178*\"gambino\" + 0.108*\"video\" + 0.061*\"fois\" + 0.058*\"prononciation\" + 0.047*\"dernier\" + 0.043*\"falloir\" + 0.041*\"contre\" + 0.038*\"annee\" + 0.030*\"genre\"\n",
      "\n",
      "***********\n",
      "* topic 6 *\n",
      "***********\n",
      "6 : 0.167*\"artiste\" + 0.122*\"video\" + 0.088*\"super\" + 0.069*\"connaitre\" + 0.063*\"musique\" + 0.053*\"jamais\" + 0.036*\"savoir\" + 0.033*\"album\" + 0.031*\"interessant\" + 0.029*\"entendre\"\n",
      "\n",
      "***********\n",
      "* topic 7 *\n",
      "***********\n",
      "7 : 0.129*\"bien\" + 0.112*\"donald\" + 0.107*\"glover\" + 0.082*\"trouver\" + 0.080*\"community\" + 0.063*\"serie\" + 0.060*\"regarder\" + 0.047*\"coiffure\" + 0.042*\"aller\" + 0.042*\"atlanta\"\n",
      "\n",
      "***********\n",
      "* topic 8 *\n",
      "***********\n",
      "8 : 0.183*\"dire\" + 0.175*\"voir\" + 0.120*\"vouloir\" + 0.097*\"chose\" + 0.089*\"genial\" + 0.088*\"tete\" + 0.078*\"monde\" + 0.028*\"venir\" + 0.025*\"aimer\" + 0.025*\"beaucoup\"\n",
      "\n"
     ]
    }
   ],
   "source": [
    "\n",
    "for (topic, words) in model.print_topics():\n",
    "    print(\"***********\")\n",
    "    print(\"* topic\", topic+1, \"*\")\n",
    "    print(\"***********\")\n",
    "    print(topic+1, \":\", words)\n",
    "    print()"
   ]
  },
  {
   "cell_type": "code",
   "execution_count": 5,
   "metadata": {},
   "outputs": [
    {
     "data": {
      "text/html": [
       "\n",
       "<link rel=\"stylesheet\" type=\"text/css\" href=\"https://cdn.jsdelivr.net/gh/bmabey/pyLDAvis@3.4.0/pyLDAvis/js/ldavis.v1.0.0.css\">\n",
       "\n",
       "\n",
       "<div id=\"ldavis_el5918213550324752904708238\" style=\"background-color:white;\"></div>\n",
       "<script type=\"text/javascript\">\n",
       "\n",
       "var ldavis_el5918213550324752904708238_data = {\"mdsDat\": {\"x\": [-0.14284857177141175, -0.2016534846235522, -0.1891833355066303, 0.0198076131775106, 0.2734993093845163, 0.07152791416725594, -0.17875500247866716, 0.3476055576509788], \"y\": [0.12701582424650734, 0.0005488561294310079, 0.11020385782338715, -0.22703029445564812, 0.1857465208118194, -0.34031335873366897, 0.0624189806861374, 0.08140961349203435], \"topics\": [1, 2, 3, 4, 5, 6, 7, 8], \"cluster\": [1, 1, 1, 1, 1, 1, 1, 1], \"Freq\": [17.808204788350906, 17.605947211089767, 12.330544054978597, 11.782778922249836, 11.476591352199465, 11.300512786188579, 10.382901188440103, 7.3125196965027435]}, \"tinfo\": {\"Term\": [\"video\", \"childish\", \"artiste\", \"faire\", \"bien\", \"coupe\", \"gambino\", \"super\", \"cheveux\", \"creator\", \"tyler\", \"incroyable\", \"donald\", \"glover\", \"jamais\", \"connaitre\", \"dire\", \"voir\", \"arriere\", \"aimer\", \"serie\", \"community\", \"vrai\", \"trop\", \"vouloir\", \"savoir\", \"jour\", \"vraiment\", \"chill\", \"entendre\", \"fois\", \"prononcer\", \"tete\", \"prochain\", \"falloir\", \"ecouter\", \"passer\", \"contre\", \"trop\", \"adorer\", \"frank\", \"ocean\", \"cool\", \"video\", \"regarder\", \"genre\", \"temps\", \"bien\", \"grand\", \"vraiment\", \"trouver\", \"cote\", \"faire\", \"musique\", \"voir\", \"sujet\", \"petit\", \"dish\", \"moche\", \"penser\", \"childish\", \"decouvrir\", \"interessant\", \"jamais\", \"incroyable\", \"clip\", \"travail\", \"sujet\", \"annee\", \"genie\", \"chose\", \"histoire\", \"artiste\", \"vraiment\", \"penser\", \"grand\", \"musique\", \"america\", \"genial\", \"film\", \"monde\", \"savoir\", \"aller\", \"beaucoup\", \"plaisir\", \"genre\", \"video\", \"adorer\", \"cote\", \"contre\", \"trouver\", \"voix\", \"rien\", \"temps\", \"super\", \"interessant\", \"preferer\", \"connaitre\", \"aimer\", \"beaucoup\", \"decouvrir\", \"penser\", \"artiste\", \"part\", \"genre\", \"cote\", \"video\", \"chose\", \"gars\", \"faire\", \"acteur\", \"savoir\", \"trop\", \"travail\", \"dish\", \"moche\", \"ecouter\", \"falloir\", \"more\", \"meilleur\", \"nouveau\", \"frank\", \"ocean\", \"choquer\", \"tyler\", \"creator\", \"childish\", \"gambino\", \"adorer\", \"bien\", \"genie\", \"trouver\", \"vraiment\", \"incroyable\", \"donald\", \"glover\", \"community\", \"serie\", \"voix\", \"acteur\", \"voir\", \"plaisir\", \"film\", \"genial\", \"choquer\", \"gars\", \"temps\", \"meilleur\", \"decouvrir\", \"cool\", \"petit\", \"grand\", \"aller\", \"venir\", \"trop\", \"musique\", \"vraiment\", \"connaitre\", \"dish\", \"moche\", \"cote\", \"penser\", \"falloir\", \"ecouter\", \"album\", \"video\", \"childish\", \"savoir\", \"sujet\", \"trouver\", \"interessant\", \"gambino\", \"coupe\", \"dire\", \"coiffure\", \"atlanta\", \"rien\", \"vrai\", \"bien\", \"trouver\", \"part\", \"choquer\", \"cheveux\", \"nouveau\", \"aimer\", \"regarder\", \"acteur\", \"vraiment\", \"ecouter\", \"dish\", \"moche\", \"penser\", \"cote\", \"serie\", \"falloir\", \"more\", \"meilleur\", \"venir\", \"frank\", \"ocean\", \"grand\", \"monde\", \"temps\", \"trop\", \"america\", \"voir\", \"connaitre\", \"petit\", \"genial\", \"video\", \"musique\", \"fois\", \"genie\", \"gambino\", \"childish\", \"vouloir\", \"prononciation\", \"album\", \"venir\", \"petit\", \"monde\", \"more\", \"savoir\", \"dernier\", \"cote\", \"musique\", \"genre\", \"cool\", \"chose\", \"histoire\", \"annee\", \"voir\", \"passer\", \"gars\", \"beaucoup\", \"dish\", \"moche\", \"penser\", \"trouver\", \"ecouter\", \"falloir\", \"meilleur\", \"nouveau\", \"super\", \"prochain\", \"video\", \"vraiment\", \"part\", \"decouvrir\", \"artiste\", \"dire\", \"jamais\", \"jour\", \"entendre\", \"faire\", \"nouveau\", \"meilleur\", \"america\", \"aller\", \"dernier\", \"regarder\", \"gars\", \"histoire\", \"temps\", \"decouvrir\", \"album\", \"video\", \"genie\", \"musique\", \"grand\", \"vrai\", \"dish\", \"moche\", \"penser\", \"cote\", \"falloir\", \"ecouter\", \"more\", \"frank\", \"ocean\", \"choquer\", \"voir\", \"artiste\", \"contre\", \"annee\", \"vraiment\", \"preferer\", \"genre\", \"super\", \"childish\", \"fois\", \"creator\", \"tyler\", \"arriere\", \"chill\", \"moche\", \"dish\", \"cheveux\", \"ocean\", \"more\", \"frank\", \"vrai\", \"part\", \"adorer\", \"ecouter\", \"choquer\", \"penser\", \"cote\", \"falloir\", \"meilleur\", \"nouveau\", \"grand\", \"monde\", \"prochain\", \"atlanta\", \"album\", \"contre\", \"sujet\", \"venir\", \"dernier\", \"cool\", \"temps\", \"gambino\", \"video\", \"tete\", \"bien\", \"voir\", \"childish\", \"aimer\", \"beaucoup\", \"fois\", \"super\", \"faire\"], \"Freq\": [563.0, 115.0, 198.0, 133.0, 127.0, 94.0, 86.0, 87.0, 84.0, 60.0, 57.0, 78.0, 61.0, 58.0, 53.0, 68.0, 51.0, 65.0, 38.0, 65.0, 46.0, 43.0, 50.0, 78.0, 34.0, 54.0, 31.0, 89.0, 26.0, 30.0, 37.97551331471496, 32.1518337944388, 24.386649866075185, 22.445155349390948, 20.504226055748223, 20.489333841662052, 27.986015629444598, 19.439833350417615, 62.31570467289327, 24.453060747337343, 14.914175827449608, 12.92380788742365, 13.584665254498962, 280.88148606930156, 17.465280351093092, 14.60561774297436, 8.936186177668544, 32.41774580043216, 4.488197365891963, 17.308050844578787, 9.02029913806198, 3.3833982783814416, 16.382763768936478, 5.574702656399629, 4.294074691665132, 1.2718037732633312, 1.3362860958446403, 0.12137381011027086, 0.12133979737216752, 0.1216458236989973, 0.6717348195608625, 0.18415910570701033, 0.13225798565895108, 0.13819351204457775, 77.50336215627486, 29.508073847561064, 40.80412160189763, 21.488782716964455, 22.034515795798036, 29.464129540909, 22.06549446441482, 27.694211680916407, 133.04696524798152, 57.60316277196159, 12.43278956797673, 11.853775550137165, 30.122338586717756, 13.42057811965851, 9.920200212784787, 9.355532077607037, 6.600370317336743, 15.358325623586945, 8.573849113585876, 12.131213102122802, 6.179577317379074, 8.691134283118581, 112.69354270302196, 4.914471705714735, 3.1668591856305905, 3.155716643989668, 6.396981911658522, 2.6323025258996644, 2.8667790907539854, 1.1752246019702257, 86.52856509821014, 30.9116494248384, 27.948644770578685, 59.96175177986138, 47.57209944264965, 30.427738374725468, 22.025316312135093, 7.509137867803438, 64.94599215451241, 5.964177177664874, 7.254440966793459, 3.700478380765688, 92.0819323325381, 5.160060600272701, 3.6116781572408048, 11.836777886516472, 1.7947474283362792, 3.3115185885624134, 3.913529890228016, 0.588930722350533, 0.12424974188031905, 0.12424751752079559, 0.12477373524696164, 0.12423993482441319, 0.12422680269499288, 0.12425514608026093, 0.12429112566884151, 0.12437656094854514, 0.12427818463560018, 0.12422301134680168, 0.1602483789280117, 0.15417587742895436, 0.16321900724967456, 0.14577373005565553, 0.1269681996841844, 0.13556592253091057, 0.12595587149789905, 0.12671347612143552, 0.12735446621270405, 0.12579451752820558, 60.50303899168289, 57.581292851241585, 42.972816454889504, 45.74883786114095, 23.920958577723283, 23.748619613926532, 54.27173028274791, 17.47134699169379, 17.235629773256697, 17.648313948062526, 13.084930957226812, 13.5042794413363, 13.399447462522897, 7.89424554453645, 13.614179773227022, 6.448349406237134, 11.06387257682122, 5.1223187430262165, 5.073806161495885, 3.5295817763687958, 11.704321302424285, 8.666981931754718, 12.432332582437294, 7.697107085189821, 0.12173753314431594, 0.12173753314431594, 0.12204259644887551, 0.12180937074997483, 0.12190197442710175, 0.12187065366929135, 0.16420363069249885, 0.2241931371102294, 0.13687616724298723, 0.1281057268878913, 0.1225323411994421, 0.125167871944113, 0.12350810551716035, 0.12449726588661, 93.31240370050942, 50.59875126960376, 25.360296459979043, 22.446966398686023, 30.405496605421813, 43.01008071942056, 94.00037610085388, 33.36718959510595, 14.44679023576317, 8.544788196375315, 31.936354309523942, 6.296588640931859, 16.862823941718997, 5.338778547228731, 2.1173026051495833, 2.0251263678266045, 0.1275197389015862, 0.12135341260004735, 0.12134918660368964, 0.1214964561737309, 0.12158248436894532, 0.2657664225376496, 0.12135402444463786, 0.12134356617082333, 0.1213703023565342, 0.1310622194780287, 0.12134877396431465, 0.12135122134267669, 0.1213907920358443, 0.1214093038919432, 0.15128376856803308, 0.3348117185980314, 0.1525959475515726, 0.1298655937484317, 0.1274214595856176, 0.12459597549558847, 0.12193238832999696, 0.12240427702766345, 0.12218185017559728, 0.121907331159674, 0.12158518786829875, 85.35342523756741, 114.51304764382319, 33.831802881080336, 28.872826222178297, 28.26794686715223, 19.447552382832335, 32.33183163305932, 15.378233731208205, 14.004582392492143, 35.0536380883003, 12.182720666797367, 9.970565167731733, 11.46187985919956, 6.225149145522131, 3.7254323694767004, 4.614936820165656, 4.788736426774259, 2.7302036468694704, 5.810495692888572, 2.396706308602836, 2.015148448036971, 0.36793781144504106, 0.1239737439619424, 0.12393138980424177, 0.12412585745521257, 0.29456847324425045, 0.12405251176696819, 0.12397797517452117, 0.1239771905788112, 0.12393485043174825, 0.17268527054088184, 0.12503090261729907, 0.1385173042653124, 0.12790002902227762, 0.12436126418947853, 0.12507165956230443, 0.12503972931903623, 0.12497394937513796, 52.87399940042438, 30.990788634070004, 29.996170485091113, 105.09659481548013, 14.700651861491426, 13.088122495522372, 21.424869073331603, 16.34136992374536, 10.914979567408235, 19.766848103014684, 6.936827456743427, 8.23565119438895, 5.271141204233477, 6.140037685394856, 4.618756402178392, 76.95207771077294, 4.149604716931334, 5.644518055544625, 0.5119485153157812, 0.41834043252213177, 0.12447427784326856, 0.12447237264495908, 0.12455290589241917, 0.12450487687287416, 0.1246332975373022, 0.12458710935125893, 0.12447050606553425, 0.12458078872713761, 0.12457854883182783, 0.12450862290468537, 0.19004000417894537, 0.1930228624646254, 0.12494263480336133, 0.12513431320084867, 0.12747660004681302, 0.12523388555844198, 0.12545505591084155, 0.12543819233121037, 0.12528587945014455, 0.1251770514331964, 59.40112658583092, 56.478004149235495, 38.04025447985706, 25.40064556534075, 19.56708007063248, 19.566959380959936, 51.87163213352568, 8.687596575206591, 6.926981434560276, 6.6936749520450505, 6.463882395764973, 2.40241960966924, 1.1303400893138078, 0.13018235227917016, 0.13290327338527325, 0.12161596940468054, 0.12153530714381808, 0.12155557923725277, 0.12154193455897942, 0.12158348509753542, 0.12179842731182419, 0.12155095545923322, 0.12163470023877539, 0.12153530714381808, 0.17570876875939004, 0.12159892488962812, 0.12195325134562753, 0.12153762809905926, 0.12161471826474583, 0.12165069307098415, 0.13107883937353929, 0.13138899515010496, 0.14614651706421453, 0.12201956176216659, 0.12777745280135555, 0.12290512404768564, 0.12298076361634648, 0.12223447677776114, 0.12178108361113521, 0.12175149143181015, 0.12171386657145505, 0.1217007205359093], \"Total\": [563.0, 115.0, 198.0, 133.0, 127.0, 94.0, 86.0, 87.0, 84.0, 60.0, 57.0, 78.0, 61.0, 58.0, 53.0, 68.0, 51.0, 65.0, 38.0, 65.0, 46.0, 43.0, 50.0, 78.0, 34.0, 54.0, 31.0, 89.0, 26.0, 30.0, 38.83706496342567, 33.012995322720194, 25.247547112014217, 23.30629364844187, 21.364866406769274, 21.36486537416165, 31.11917045165643, 23.333623965474043, 78.76102131948714, 31.116583250217978, 22.346417592844823, 22.349774338845464, 24.373225127194964, 563.240300051102, 43.21510619195375, 37.266645821470966, 29.313286503101093, 127.17563001447891, 22.467846726765305, 89.87295369278971, 49.57714688334805, 20.710966277343964, 133.96860704756944, 61.838657722814304, 65.34784988186487, 23.49946520387656, 45.37237887780875, 20.426568722613464, 20.426613148287313, 20.677173819155183, 115.97709783683466, 42.454506783440166, 31.787719697400632, 53.75568971122953, 78.36405694120948, 30.36687135923733, 42.12788028253403, 23.49946520387656, 25.500403412848463, 34.35052337390963, 32.45186903510665, 41.329787706778205, 198.79768492840483, 89.87295369278971, 20.677173819155183, 22.467846726765305, 61.838657722814304, 35.61125330013724, 28.306248656782717, 27.329174490243183, 22.713763818958146, 54.34086891802543, 30.602233451266553, 43.53811925662804, 24.38908959509911, 37.266645821470966, 563.240300051102, 31.116583250217978, 20.710966277343964, 23.333623965474043, 49.57714688334805, 27.290454573489967, 34.01073762399635, 29.313286503101093, 87.43977391333111, 31.787719697400632, 28.806722769912874, 68.40317033183791, 65.1792244035938, 43.53811925662804, 42.454506783440166, 20.677173819155183, 198.79768492840483, 23.446942080255248, 37.266645821470966, 20.710966277343964, 563.240300051102, 32.45186903510665, 26.554848714440244, 133.96860704756944, 28.276831817386096, 54.34086891802543, 78.76102131948714, 42.12788028253403, 20.426568722613464, 20.426613148287313, 21.36486537416165, 21.364866406769274, 21.667128254800495, 21.71735486714857, 21.732673100070567, 22.346417592844823, 22.349774338845464, 22.379184909881072, 57.37407543988689, 60.29079639407302, 115.97709783683466, 86.24539896444657, 31.116583250217978, 127.17563001447891, 34.35052337390963, 49.57714688334805, 89.87295369278971, 78.36405694120948, 61.362677740204205, 58.44097266103305, 43.83246454895156, 46.75369550782245, 27.290454573489967, 28.276831817386096, 65.34784988186487, 24.38908959509911, 27.329174490243183, 28.306248656782717, 22.379184909881072, 26.554848714440244, 29.313286503101093, 21.71735486714857, 42.454506783440166, 24.373225127194964, 45.37237887780875, 22.467846726765305, 30.602233451266553, 23.72249766097694, 78.76102131948714, 61.838657722814304, 89.87295369278971, 68.40317033183791, 20.426568722613464, 20.426613148287313, 20.710966277343964, 20.677173819155183, 21.364866406769274, 21.36486537416165, 33.71623742847766, 563.240300051102, 115.97709783683466, 54.34086891802543, 23.49946520387656, 49.57714688334805, 31.787719697400632, 86.24539896444657, 94.17266787610056, 51.45970887537886, 26.220270552233025, 23.307827088123002, 34.01073762399635, 50.50630708768229, 127.17563001447891, 49.57714688334805, 23.446942080255248, 22.379184909881072, 84.54679305746282, 21.732673100070567, 65.1792244035938, 43.21510619195375, 28.276831817386096, 89.87295369278971, 21.36486537416165, 20.426568722613464, 20.426613148287313, 20.677173819155183, 20.710966277343964, 46.75369550782245, 21.364866406769274, 21.667128254800495, 21.71735486714857, 23.72249766097694, 22.346417592844823, 22.349774338845464, 22.467846726765305, 22.713763818958146, 29.313286503101093, 78.76102131948714, 35.61125330013724, 65.34784988186487, 68.40317033183791, 45.37237887780875, 28.306248656782717, 563.240300051102, 61.838657722814304, 38.83706496342567, 34.35052337390963, 86.24539896444657, 115.97709783683466, 34.69012177192297, 29.732824913417534, 33.71623742847766, 23.72249766097694, 45.37237887780875, 22.713763818958146, 21.667128254800495, 54.34086891802543, 23.83080876829737, 20.710966277343964, 61.838657722814304, 37.266645821470966, 24.373225127194964, 32.45186903510665, 41.329787706778205, 25.500403412848463, 65.34784988186487, 31.11917045165643, 26.554848714440244, 43.53811925662804, 20.426568722613464, 20.426613148287313, 20.677173819155183, 49.57714688334805, 21.36486537416165, 21.364866406769274, 21.71735486714857, 21.732673100070567, 87.43977391333111, 23.30629364844187, 563.240300051102, 89.87295369278971, 23.446942080255248, 42.454506783440166, 198.79768492840483, 51.45970887537886, 53.75568971122953, 31.8494395082417, 30.853738758523562, 133.96860704756944, 21.732673100070567, 21.71735486714857, 35.61125330013724, 30.602233451266553, 23.83080876829737, 43.21510619195375, 26.554848714440244, 41.329787706778205, 29.313286503101093, 42.454506783440166, 33.71623742847766, 563.240300051102, 34.35052337390963, 61.838657722814304, 22.467846726765305, 50.50630708768229, 20.426568722613464, 20.426613148287313, 20.677173819155183, 20.710966277343964, 21.364866406769274, 21.36486537416165, 21.667128254800495, 22.346417592844823, 22.349774338845464, 22.379184909881072, 65.34784988186487, 198.79768492840483, 23.333623965474043, 25.500403412848463, 89.87295369278971, 28.806722769912874, 37.266645821470966, 87.43977391333111, 115.97709783683466, 38.83706496342567, 60.29079639407302, 57.37407543988689, 38.899946182540816, 26.260260063594707, 20.426613148287313, 20.426568722613464, 84.54679305746282, 22.349774338845464, 21.667128254800495, 22.346417592844823, 50.50630708768229, 23.446942080255248, 31.116583250217978, 21.36486537416165, 22.379184909881072, 20.677173819155183, 20.710966277343964, 21.364866406769274, 21.71735486714857, 21.732673100070567, 22.467846726765305, 22.713763818958146, 23.30629364844187, 23.307827088123002, 33.71623742847766, 23.333623965474043, 23.49946520387656, 23.72249766097694, 23.83080876829737, 24.373225127194964, 29.313286503101093, 86.24539896444657, 563.240300051102, 25.247547112014217, 127.17563001447891, 65.34784988186487, 115.97709783683466, 65.1792244035938, 43.53811925662804, 38.83706496342567, 87.43977391333111, 133.96860704756944], \"Category\": [\"Default\", \"Default\", \"Default\", \"Default\", \"Default\", \"Default\", \"Default\", \"Default\", \"Default\", \"Default\", \"Default\", \"Default\", \"Default\", \"Default\", \"Default\", \"Default\", \"Default\", \"Default\", \"Default\", \"Default\", \"Default\", \"Default\", \"Default\", \"Default\", \"Default\", \"Default\", \"Default\", \"Default\", \"Default\", \"Default\", \"Topic1\", \"Topic1\", \"Topic1\", \"Topic1\", \"Topic1\", \"Topic1\", \"Topic1\", \"Topic1\", \"Topic1\", \"Topic1\", \"Topic1\", \"Topic1\", \"Topic1\", \"Topic1\", \"Topic1\", \"Topic1\", \"Topic1\", \"Topic1\", \"Topic1\", \"Topic1\", \"Topic1\", \"Topic1\", \"Topic1\", \"Topic1\", \"Topic1\", \"Topic1\", \"Topic1\", \"Topic1\", \"Topic1\", \"Topic1\", \"Topic1\", \"Topic1\", \"Topic1\", \"Topic1\", \"Topic2\", \"Topic2\", \"Topic2\", \"Topic2\", \"Topic2\", \"Topic2\", \"Topic2\", \"Topic2\", \"Topic2\", \"Topic2\", \"Topic2\", \"Topic2\", \"Topic2\", \"Topic2\", \"Topic2\", \"Topic2\", \"Topic2\", \"Topic2\", \"Topic2\", \"Topic2\", \"Topic2\", \"Topic2\", \"Topic2\", \"Topic2\", \"Topic2\", \"Topic2\", \"Topic2\", \"Topic2\", \"Topic2\", \"Topic2\", \"Topic3\", \"Topic3\", \"Topic3\", \"Topic3\", \"Topic3\", \"Topic3\", \"Topic3\", \"Topic3\", \"Topic3\", \"Topic3\", \"Topic3\", \"Topic3\", \"Topic3\", \"Topic3\", \"Topic3\", \"Topic3\", \"Topic3\", \"Topic3\", \"Topic3\", \"Topic3\", \"Topic3\", \"Topic3\", \"Topic3\", \"Topic3\", \"Topic3\", \"Topic3\", \"Topic3\", \"Topic3\", \"Topic3\", \"Topic3\", \"Topic3\", \"Topic3\", \"Topic3\", \"Topic3\", \"Topic3\", \"Topic3\", \"Topic3\", \"Topic3\", \"Topic3\", \"Topic3\", \"Topic4\", \"Topic4\", \"Topic4\", \"Topic4\", \"Topic4\", \"Topic4\", \"Topic4\", \"Topic4\", \"Topic4\", \"Topic4\", \"Topic4\", \"Topic4\", \"Topic4\", \"Topic4\", \"Topic4\", \"Topic4\", \"Topic4\", \"Topic4\", \"Topic4\", \"Topic4\", \"Topic4\", \"Topic4\", \"Topic4\", \"Topic4\", \"Topic4\", \"Topic4\", \"Topic4\", \"Topic4\", \"Topic4\", \"Topic4\", \"Topic4\", \"Topic4\", \"Topic4\", \"Topic4\", \"Topic4\", \"Topic4\", \"Topic4\", \"Topic4\", \"Topic5\", \"Topic5\", \"Topic5\", \"Topic5\", \"Topic5\", \"Topic5\", \"Topic5\", \"Topic5\", \"Topic5\", \"Topic5\", \"Topic5\", \"Topic5\", \"Topic5\", \"Topic5\", \"Topic5\", \"Topic5\", \"Topic5\", \"Topic5\", \"Topic5\", \"Topic5\", \"Topic5\", \"Topic5\", \"Topic5\", \"Topic5\", \"Topic5\", \"Topic5\", \"Topic5\", \"Topic5\", \"Topic5\", \"Topic5\", \"Topic5\", \"Topic5\", \"Topic5\", \"Topic5\", \"Topic5\", \"Topic5\", \"Topic5\", \"Topic5\", \"Topic5\", \"Topic5\", \"Topic5\", \"Topic6\", \"Topic6\", \"Topic6\", \"Topic6\", \"Topic6\", \"Topic6\", \"Topic6\", \"Topic6\", \"Topic6\", \"Topic6\", \"Topic6\", \"Topic6\", \"Topic6\", \"Topic6\", \"Topic6\", \"Topic6\", \"Topic6\", \"Topic6\", \"Topic6\", \"Topic6\", \"Topic6\", \"Topic6\", \"Topic6\", \"Topic6\", \"Topic6\", \"Topic6\", \"Topic6\", \"Topic6\", \"Topic6\", \"Topic6\", \"Topic6\", \"Topic6\", \"Topic6\", \"Topic6\", \"Topic6\", \"Topic6\", \"Topic6\", \"Topic6\", \"Topic7\", \"Topic7\", \"Topic7\", \"Topic7\", \"Topic7\", \"Topic7\", \"Topic7\", \"Topic7\", \"Topic7\", \"Topic7\", \"Topic7\", \"Topic7\", \"Topic7\", \"Topic7\", \"Topic7\", \"Topic7\", \"Topic7\", \"Topic7\", \"Topic7\", \"Topic7\", \"Topic7\", \"Topic7\", \"Topic7\", \"Topic7\", \"Topic7\", \"Topic7\", \"Topic7\", \"Topic7\", \"Topic7\", \"Topic7\", \"Topic7\", \"Topic7\", \"Topic7\", \"Topic7\", \"Topic7\", \"Topic7\", \"Topic7\", \"Topic7\", \"Topic7\", \"Topic7\", \"Topic8\", \"Topic8\", \"Topic8\", \"Topic8\", \"Topic8\", \"Topic8\", \"Topic8\", \"Topic8\", \"Topic8\", \"Topic8\", \"Topic8\", \"Topic8\", \"Topic8\", \"Topic8\", \"Topic8\", \"Topic8\", \"Topic8\", \"Topic8\", \"Topic8\", \"Topic8\", \"Topic8\", \"Topic8\", \"Topic8\", \"Topic8\", \"Topic8\", \"Topic8\", \"Topic8\", \"Topic8\", \"Topic8\", \"Topic8\", \"Topic8\", \"Topic8\", \"Topic8\", \"Topic8\", \"Topic8\", \"Topic8\", \"Topic8\", \"Topic8\", \"Topic8\", \"Topic8\", \"Topic8\", \"Topic8\"], \"logprob\": [30.0, 29.0, 28.0, 27.0, 26.0, 25.0, 24.0, 23.0, 22.0, 21.0, 20.0, 19.0, 18.0, 17.0, 16.0, 15.0, 14.0, 13.0, 12.0, 11.0, 10.0, 9.0, 8.0, 7.0, 6.0, 5.0, 4.0, 3.0, 2.0, 1.0, -2.9946, -3.161, -3.4375, -3.5204, -3.6109, -3.6116, -3.2998, -3.6642, -2.4993, -3.4348, -3.9292, -4.0724, -4.0226, -0.9936, -3.7713, -3.9501, -4.4414, -3.1528, -5.1301, -3.7803, -4.432, -5.4126, -3.8353, -4.9133, -5.1743, -6.3911, -6.3416, -8.7404, -8.7407, -8.7382, -7.0294, -8.3235, -8.6545, -8.6106, -2.2698, -3.2354, -2.9113, -3.5526, -3.5275, -3.2369, -3.5261, -3.2989, -1.7294, -2.5665, -4.0998, -4.1474, -3.2148, -4.0233, -4.3255, -4.3841, -4.733, -3.8884, -4.4714, -4.1243, -4.7988, -4.4578, -1.8954, -5.0279, -5.4674, -5.4709, -4.7643, -5.6522, -5.5669, -6.4586, -1.8035, -2.8328, -2.9336, -2.1702, -2.4017, -2.8486, -3.1717, -4.2478, -2.0904, -4.4782, -4.2823, -4.9555, -1.7413, -4.623, -4.9798, -3.7927, -5.6791, -5.0665, -4.8995, -6.7934, -8.3494, -8.3494, -8.3452, -8.3495, -8.3496, -8.3494, -8.3491, -8.3484, -8.3492, -8.3496, -8.095, -8.1336, -8.0766, -8.1896, -8.3278, -8.2622, -8.3358, -8.3298, -8.3247, -8.337, -2.1158, -2.1653, -2.4579, -2.3953, -3.0437, -3.051, -2.2245, -3.3579, -3.3715, -3.3479, -3.647, -3.6155, -3.6233, -4.1524, -3.6074, -4.3547, -3.8148, -4.5849, -4.5944, -4.9573, -3.7585, -4.059, -3.6982, -4.1776, -8.3244, -8.3244, -8.3219, -8.3238, -8.323, -8.3233, -8.0251, -7.7137, -8.2072, -8.2734, -8.3179, -8.2966, -8.3099, -8.302, -1.6562, -2.2682, -2.959, -3.081, -2.7775, -2.4307, -1.6489, -2.6846, -3.5217, -4.0468, -2.7284, -4.3522, -3.3671, -4.5172, -5.442, -5.4865, -8.2516, -8.3012, -8.3012, -8.3, -8.2993, -7.5173, -8.3012, -8.3013, -8.3011, -8.2242, -8.3013, -8.3012, -8.3009, -8.3008, -8.0808, -7.2864, -8.0721, -8.2334, -8.2524, -8.2748, -8.2965, -8.2926, -8.2944, -8.2967, -8.2993, -1.7299, -1.436, -2.6553, -2.8138, -2.835, -3.209, -2.7007, -3.4437, -3.5373, -2.6198, -3.6767, -3.8771, -3.7377, -4.3481, -4.8615, -4.6474, -4.6104, -5.1723, -4.417, -5.3026, -5.476, -7.1765, -8.2644, -8.2647, -8.2632, -7.3989, -8.2638, -8.2644, -8.2644, -8.2647, -7.933, -8.2559, -8.1535, -8.2332, -8.2613, -8.2556, -8.2558, -8.2564, -2.1241, -2.6583, -2.6909, -1.4371, -3.4041, -3.5203, -3.0275, -3.2983, -3.7019, -3.108, -4.1552, -3.9835, -4.4298, -4.2772, -4.5619, -1.7488, -4.669, -4.3613, -6.7615, -6.9635, -8.1757, -8.1757, -8.175, -8.1754, -8.1744, -8.1748, -8.1757, -8.1748, -8.1748, -8.1754, -7.7525, -7.737, -8.1719, -8.1704, -8.1518, -8.1696, -8.1678, -8.168, -8.1692, -8.17, -1.6571, -1.7076, -2.1028, -2.5067, -2.7676, -2.7676, -1.7927, -3.5795, -3.806, -3.8403, -3.8752, -4.865, -5.6189, -7.7803, -7.7596, -7.8483, -7.849, -7.8488, -7.8489, -7.8486, -7.8468, -7.8489, -7.8482, -7.849, -7.4804, -7.8485, -7.8456, -7.849, -7.8483, -7.848, -7.7734, -7.771, -7.6646, -7.845, -7.7989, -7.8378, -7.8372, -7.8433, -7.847, -7.8472, -7.8475, -7.8476], \"loglift\": [30.0, 29.0, 28.0, 27.0, 26.0, 25.0, 24.0, 23.0, 22.0, 21.0, 20.0, 19.0, 18.0, 17.0, 16.0, 15.0, 14.0, 13.0, 12.0, 11.0, 10.0, 9.0, 8.0, 7.0, 6.0, 5.0, 4.0, 3.0, 2.0, 1.0, 1.7031, 1.6991, 1.6908, 1.6879, 1.6844, 1.6837, 1.6194, 1.5429, 1.4913, 1.4845, 1.3212, 1.1778, 1.141, 1.0297, 0.8195, 0.7888, 0.5376, 0.3586, 0.1149, 0.0783, 0.0215, -0.0863, -0.3759, -0.6808, -0.997, -1.191, -1.7995, -3.4002, -3.4005, -3.4102, -3.4258, -3.7149, -3.7566, -4.238, 1.7259, 1.7082, 1.705, 1.6475, 1.5908, 1.5835, 1.3512, 1.3366, 1.3353, 1.2921, 1.2282, 1.0975, 1.0177, 0.7611, 0.6884, 0.6649, 0.5011, 0.4733, 0.4646, 0.4591, 0.364, 0.2811, 0.1279, -0.1086, -0.141, -0.2637, -0.3108, -0.6017, -0.7366, -1.4796, 2.0826, 2.0651, 2.0629, 1.9614, 1.7782, 1.7348, 1.4369, 1.0802, 0.9744, 0.7241, 0.4566, 0.3709, 0.2821, 0.2543, 0.0981, -0.3333, -0.6641, -0.7048, -0.9089, -2.1771, -3.0092, -3.0092, -3.0499, -3.0542, -3.0684, -3.0704, -3.0709, -3.098, -3.099, -3.1007, -3.7875, -3.8757, -4.473, -4.2898, -3.4085, -4.7508, -3.5154, -3.8763, -4.4661, -4.3414, 2.1244, 2.1237, 2.1187, 2.1168, 2.0067, 1.964, 1.9528, 1.805, 1.6776, 1.6661, 1.6019, 1.4623, 1.3557, 1.1266, 1.0012, 0.8089, 0.7273, 0.6601, 0.3415, 0.2333, 0.2321, 0.1735, 0.1604, -0.046, -2.9842, -2.9842, -2.9955, -2.9958, -3.0278, -3.028, -3.1861, -5.6904, -4.6035, -3.9116, -3.1178, -3.8431, -3.412, -4.4021, 2.1557, 2.148, 2.1315, 2.1272, 2.0528, 2.0042, 1.8626, 1.7689, 1.6806, 1.2021, 1.1913, 0.9261, 0.8128, 0.0737, -0.427, -1.6279, -2.9564, -2.961, -2.9611, -2.972, -2.973, -3.0052, -3.0059, -3.0201, -3.0222, -3.0336, -3.0509, -3.051, -3.056, -3.0667, -3.1018, -3.2957, -3.2878, -4.0561, -4.1208, -3.7327, -3.2825, -6.2693, -4.0619, -3.599, -3.4789, 2.1699, 2.1676, 2.1553, 2.151, 2.0041, 1.9816, 1.8415, 1.7903, 1.7439, 1.7419, 1.5094, 1.4493, 0.4948, 0.3908, 0.302, 0.2299, 0.025, -0.054, -0.2397, -0.3834, -0.3982, -2.5932, -2.9242, -2.9245, -2.9352, -2.9455, -2.9685, -2.9691, -2.9854, -2.9865, -4.0469, -3.0476, -6.1301, -4.3746, -3.059, -3.647, -5.1911, -3.8401, 2.2485, 2.2377, 2.2368, 2.0223, 1.8741, 1.7586, 1.7569, 1.6376, 1.4842, 1.4828, 0.9226, 0.6519, 0.5492, 0.3314, 0.2772, 0.2745, 0.1514, -0.1288, -1.5166, -2.5285, -2.8355, -2.8355, -2.847, -2.8491, -2.8791, -2.8795, -2.8945, -2.9245, -2.9246, -2.9265, -3.5752, -4.6722, -2.9648, -3.0521, -4.2932, -3.1732, -3.4289, -4.2819, -4.5655, -3.4724, 2.6007, 2.5998, 2.5932, 2.5823, 2.5726, 2.5726, 2.127, 1.6707, 1.4752, 1.4101, 0.5597, 0.3373, -0.6996, -2.485, -2.5107, -2.5203, -2.5226, -2.5535, -2.57, -2.5704, -2.6019, -2.6148, -2.6399, -2.6408, -2.6413, -2.6413, -2.6455, -2.6584, -2.6623, -2.6845, -2.7944, -3.8712, -5.6413, -2.7167, -4.2875, -3.6605, -4.2335, -3.6634, -3.2636, -3.1496, -3.9615, -4.3882]}, \"token.table\": {\"Topic\": [3, 4, 5, 1, 2, 8, 3, 5, 6, 7, 2, 4, 7, 2, 7, 2, 6, 8, 2, 3, 5, 2, 3, 1, 5, 5, 8, 1, 6, 8, 4, 5, 2, 3, 6, 2, 5, 4, 3, 4, 1, 2, 1, 4, 6, 1, 2, 3, 6, 5, 8, 3, 4, 7, 6, 7, 5, 8, 4, 1, 7, 1, 3, 7, 1, 2, 4, 1, 1, 8, 6, 3, 4, 6, 7, 2, 4, 2, 7, 1, 2, 3, 6, 4, 1, 2, 4, 7, 2, 6, 7, 2, 3, 7, 7, 4, 7, 8, 2, 6, 6, 8, 1, 2, 4, 6, 7, 5, 7, 1, 8, 3, 5, 8, 1, 6, 2, 3, 1, 4, 6, 2, 4, 3, 1, 1, 6, 1, 5, 7, 2, 5, 2, 3, 6, 4, 1, 2, 3, 1, 2, 4, 7, 1, 2, 3, 1, 3, 4, 1, 2, 5, 8, 4, 6, 1, 2, 3, 7, 1, 4, 6, 2, 4, 6, 5, 8, 1, 2, 4, 5], \"Freq\": [0.07072928158699497, 0.8487513790439397, 0.07072928158699497, 0.7712929085757472, 0.16068602261994733, 0.032137204523989465, 0.7364309784170032, 0.26081930485602195, 0.8304603993668175, 0.1482964998869317, 0.29409618138925453, 0.16338676743847472, 0.5228376558031191, 0.3650531445898283, 0.5897012335681842, 0.8627314495313132, 0.11764519766336089, 0.976865104688892, 0.669021875420223, 0.3269655782128909, 0.9438889312513635, 0.2756205413758927, 0.6890513534397318, 0.25162053450300825, 0.7391353201025866, 0.37848863147595646, 0.6150440261484292, 0.008622391995071954, 0.9915750794332747, 0.9520088506152368, 0.5808969384876977, 0.40215941895302154, 0.6779270548700986, 0.15407433065229514, 0.15407433065229514, 0.9879186974878882, 0.9534607947769974, 0.9810080369078522, 0.8771523265504743, 0.11695364354006323, 0.8142755719434599, 0.12856982714896736, 0.5744007995223903, 0.24617177122388156, 0.16411451414925438, 0.14485079835612233, 0.14485079835612233, 0.1931343978081631, 0.48283599452040776, 0.9875476833931964, 0.9785904902360866, 0.5182017568175197, 0.3297647543384216, 0.14132775185932356, 0.5035498424192743, 0.4615873555510014, 0.9910666250271227, 0.9791169663193983, 0.994089603753283, 0.9361163597214941, 0.9723294876771551, 0.11943096485521221, 0.08957322364140916, 0.7837657068623302, 0.9829221302009327, 0.32931839939816326, 0.622045865529864, 0.9784467501801704, 0.6712485317916417, 0.31324931483609947, 0.9855598214003282, 0.15063162449217204, 0.5272106857226021, 0.07531581224608602, 0.26360534286130105, 0.35327888627177056, 0.635901995289187, 0.844237500673031, 0.11644655181696979, 0.40250469741384226, 0.24150281844830535, 0.18783552545979304, 0.1610018789655369, 0.9924543921677902, 0.17803219189825226, 0.5340965756947568, 0.22254023987281535, 0.044508047974563064, 0.6774774697283993, 0.12097811959435702, 0.19356499135097122, 0.9953542867046482, 0.9752193707224288, 0.9859421446308471, 0.9733295303981129, 0.36836898641378507, 0.5985996029224008, 0.9791148368459173, 0.3081831816071548, 0.6603925320153317, 0.6461400807418125, 0.32307004037090625, 0.09702668558710328, 0.48513342793551645, 0.14554002838065494, 0.17788225690968937, 0.09702668558710328, 0.276082006680555, 0.6902050167013875, 0.5816613538421771, 0.40268862958304563, 0.25589690883625377, 0.5970927872845921, 0.0852989696120846, 0.8997669151720463, 0.06426906536943187, 0.5803501051426713, 0.3869000700951142, 0.022039840641661652, 0.24243824705827818, 0.7052749005331729, 0.246011642894849, 0.6970329882020722, 0.9719953298278188, 0.9439510345082603, 0.9693152556192612, 0.9753530007474388, 0.3933809609188289, 0.11570028262318498, 0.4628011304927399, 0.08820743710901888, 0.8820743710901887, 0.27603533581010414, 0.05520706716202083, 0.6440824502235764, 0.983879445258047, 0.04255415990637252, 0.8936373580338228, 0.9949705506584795, 0.3070280092628944, 0.034114223251432714, 0.44348490226862525, 0.17057111625716356, 0.9505873934414578, 0.9732272244658452, 0.023737249377215736, 0.7871914172938727, 0.05078654305121759, 0.15235962915365275, 0.1815352549668992, 0.12102350331126613, 0.6656292682119637, 0.9760505867963561, 0.1686163091747259, 0.800927468579948, 0.4988989601321234, 0.20062484873640551, 0.16334058481194078, 0.13670896772303737, 0.0612108892217748, 0.8263470044939597, 0.09181633383266219, 0.10992854633188152, 0.8794283706550522, 0.9801061011990586, 0.8513788174088666, 0.11879704428960929, 0.1891559062152407, 0.6453554447343506, 0.13352181615193462, 0.022253636025322435], \"Term\": [\"acteur\", \"acteur\", \"acteur\", \"adorer\", \"adorer\", \"adorer\", \"aimer\", \"aimer\", \"album\", \"album\", \"aller\", \"aller\", \"aller\", \"america\", \"america\", \"annee\", \"annee\", \"arriere\", \"artiste\", \"artiste\", \"atlanta\", \"beaucoup\", \"beaucoup\", \"bien\", \"bien\", \"cheveux\", \"cheveux\", \"childish\", \"childish\", \"chill\", \"choquer\", \"choquer\", \"chose\", \"chose\", \"chose\", \"clip\", \"coiffure\", \"community\", \"connaitre\", \"connaitre\", \"contre\", \"contre\", \"cool\", \"cool\", \"cool\", \"cote\", \"cote\", \"cote\", \"cote\", \"coupe\", \"creator\", \"decouvrir\", \"decouvrir\", \"decouvrir\", \"dernier\", \"dernier\", \"dire\", \"dish\", \"donald\", \"ecouter\", \"entendre\", \"faire\", \"faire\", \"faire\", \"falloir\", \"film\", \"film\", \"fois\", \"frank\", \"frank\", \"gambino\", \"gars\", \"gars\", \"gars\", \"gars\", \"genial\", \"genial\", \"genie\", \"genie\", \"genre\", \"genre\", \"genre\", \"genre\", \"glover\", \"grand\", \"grand\", \"grand\", \"grand\", \"histoire\", \"histoire\", \"histoire\", \"incroyable\", \"interessant\", \"jamais\", \"jour\", \"meilleur\", \"meilleur\", \"moche\", \"monde\", \"monde\", \"more\", \"more\", \"musique\", \"musique\", \"musique\", \"musique\", \"musique\", \"nouveau\", \"nouveau\", \"ocean\", \"ocean\", \"part\", \"part\", \"part\", \"passer\", \"passer\", \"penser\", \"penser\", \"petit\", \"petit\", \"petit\", \"plaisir\", \"plaisir\", \"preferer\", \"prochain\", \"prononcer\", \"prononciation\", \"regarder\", \"regarder\", \"regarder\", \"rien\", \"rien\", \"savoir\", \"savoir\", \"savoir\", \"serie\", \"sujet\", \"sujet\", \"super\", \"temps\", \"temps\", \"temps\", \"temps\", \"tete\", \"travail\", \"travail\", \"trop\", \"trop\", \"trop\", \"trouver\", \"trouver\", \"trouver\", \"tyler\", \"venir\", \"venir\", \"video\", \"video\", \"video\", \"video\", \"voir\", \"voir\", \"voir\", \"voix\", \"voix\", \"vouloir\", \"vrai\", \"vrai\", \"vraiment\", \"vraiment\", \"vraiment\", \"vraiment\"]}, \"R\": 30, \"lambda.step\": 0.01, \"plot.opts\": {\"xlab\": \"PC1\", \"ylab\": \"PC2\"}, \"topic.order\": [3, 5, 4, 2, 6, 7, 1, 8]};\n",
       "\n",
       "function LDAvis_load_lib(url, callback){\n",
       "  var s = document.createElement('script');\n",
       "  s.src = url;\n",
       "  s.async = true;\n",
       "  s.onreadystatechange = s.onload = callback;\n",
       "  s.onerror = function(){console.warn(\"failed to load library \" + url);};\n",
       "  document.getElementsByTagName(\"head\")[0].appendChild(s);\n",
       "}\n",
       "\n",
       "if(typeof(LDAvis) !== \"undefined\"){\n",
       "   // already loaded: just create the visualization\n",
       "   !function(LDAvis){\n",
       "       new LDAvis(\"#\" + \"ldavis_el5918213550324752904708238\", ldavis_el5918213550324752904708238_data);\n",
       "   }(LDAvis);\n",
       "}else if(typeof define === \"function\" && define.amd){\n",
       "   // require.js is available: use it to load d3/LDAvis\n",
       "   require.config({paths: {d3: \"https://d3js.org/d3.v5\"}});\n",
       "   require([\"d3\"], function(d3){\n",
       "      window.d3 = d3;\n",
       "      LDAvis_load_lib(\"https://cdn.jsdelivr.net/gh/bmabey/pyLDAvis@3.4.0/pyLDAvis/js/ldavis.v3.0.0.js\", function(){\n",
       "        new LDAvis(\"#\" + \"ldavis_el5918213550324752904708238\", ldavis_el5918213550324752904708238_data);\n",
       "      });\n",
       "    });\n",
       "}else{\n",
       "    // require.js not available: dynamically load d3 & LDAvis\n",
       "    LDAvis_load_lib(\"https://d3js.org/d3.v5.js\", function(){\n",
       "         LDAvis_load_lib(\"https://cdn.jsdelivr.net/gh/bmabey/pyLDAvis@3.4.0/pyLDAvis/js/ldavis.v3.0.0.js\", function(){\n",
       "                 new LDAvis(\"#\" + \"ldavis_el5918213550324752904708238\", ldavis_el5918213550324752904708238_data);\n",
       "            })\n",
       "         });\n",
       "}\n",
       "</script>"
      ],
      "text/plain": [
       "<IPython.core.display.HTML object>"
      ]
     },
     "execution_count": 5,
     "metadata": {},
     "output_type": "execute_result"
    }
   ],
   "source": [
    "import pyLDAvis.gensim\n",
    "\n",
    "# Prepare the visualization\n",
    "LDAvis_prepared = pyLDAvis.gensim.prepare(model, corpus_vect, dictionary)\n",
    "\n",
    "# Display the visualization (if running in a Jupyter Notebook)\n",
    "pyLDAvis.display(LDAvis_prepared)\n",
    "# lambda metrci de pertinance, proche de 1 fréquence élevé 0 exclusivitié\n",
    "# rouge fréquence dans topic \n",
    "# bleu fréquence dans le corpus "
   ]
  },
  {
   "cell_type": "code",
   "execution_count": 6,
   "metadata": {},
   "outputs": [],
   "source": [
    "def format_topics_sentences(ldamodel, corpus, texts):\n",
    "    # Liste pour stocker les résultats\n",
    "    topics_df = []\n",
    "\n",
    "    for i, row in enumerate(ldamodel[corpus]):\n",
    "        row = sorted(row, key=lambda x: (x[1]), reverse=True)\n",
    "        # Topic dominant, % de contribution et mots-clés\n",
    "        topic_num, prop_topic = row[0]\n",
    "        topic_keywords = \", \".join([word for word, _ in ldamodel.show_topic(topic_num)])\n",
    "        topics_df.append((i, int(topic_num), round(prop_topic, 4), topic_keywords, texts[i]))\n",
    "\n",
    "    # Créer un DataFrame \n",
    "    df_topic_sents_keywords = pd.DataFrame(topics_df, columns=['Doc_ID', 'Dominant_Topic', 'Topic_Perc_Contrib', 'Topic_Keywords', 'Text'])\n",
    "    return df_topic_sents_keywords"
   ]
  },
  {
   "cell_type": "code",
   "execution_count": 7,
   "metadata": {},
   "outputs": [
    {
     "data": {
      "text/html": [
       "<div>\n",
       "<style scoped>\n",
       "    .dataframe tbody tr th:only-of-type {\n",
       "        vertical-align: middle;\n",
       "    }\n",
       "\n",
       "    .dataframe tbody tr th {\n",
       "        vertical-align: top;\n",
       "    }\n",
       "\n",
       "    .dataframe thead th {\n",
       "        text-align: right;\n",
       "    }\n",
       "</style>\n",
       "<table border=\"1\" class=\"dataframe\">\n",
       "  <thead>\n",
       "    <tr style=\"text-align: right;\">\n",
       "      <th></th>\n",
       "      <th>Doc_ID</th>\n",
       "      <th>Dominant_Topic</th>\n",
       "      <th>Topic_Perc_Contrib</th>\n",
       "      <th>Topic_Keywords</th>\n",
       "      <th>Text</th>\n",
       "    </tr>\n",
       "  </thead>\n",
       "  <tbody>\n",
       "    <tr>\n",
       "      <th>0</th>\n",
       "      <td>0</td>\n",
       "      <td>0</td>\n",
       "      <td>0.4261</td>\n",
       "      <td>faire, video, jamais, jour, entendre, america,...</td>\n",
       "      <td>['odoo', 'sponsor', 'decouvrir', 'odoo', 'cliq...</td>\n",
       "    </tr>\n",
       "    <tr>\n",
       "      <th>1</th>\n",
       "      <td>1</td>\n",
       "      <td>7</td>\n",
       "      <td>0.5277</td>\n",
       "      <td>creator, tyler, cheveux, arriere, chill, moche...</td>\n",
       "      <td>['video_sur', 'tyler_the_creator']</td>\n",
       "    </tr>\n",
       "    <tr>\n",
       "      <th>2</th>\n",
       "      <td>2</td>\n",
       "      <td>2</td>\n",
       "      <td>0.1835</td>\n",
       "      <td>video, trop, fois, bien, prononcer, passer, ad...</td>\n",
       "      <td>['mort_de_rire', 'disclaimer']</td>\n",
       "    </tr>\n",
       "    <tr>\n",
       "      <th>3</th>\n",
       "      <td>3</td>\n",
       "      <td>1</td>\n",
       "      <td>0.7137</td>\n",
       "      <td>donald, glover, voir, serie, community, voix, ...</td>\n",
       "      <td>['voir', 'serie', 'earn', 'alfred']</td>\n",
       "    </tr>\n",
       "    <tr>\n",
       "      <th>4</th>\n",
       "      <td>4</td>\n",
       "      <td>2</td>\n",
       "      <td>0.1835</td>\n",
       "      <td>video, trop, fois, bien, prononcer, passer, ad...</td>\n",
       "      <td>['reupload', 'impression', 'deja_vu', 'critiqu...</td>\n",
       "    </tr>\n",
       "  </tbody>\n",
       "</table>\n",
       "</div>"
      ],
      "text/plain": [
       "   Doc_ID  Dominant_Topic  Topic_Perc_Contrib  \\\n",
       "0       0               0              0.4261   \n",
       "1       1               7              0.5277   \n",
       "2       2               2              0.1835   \n",
       "3       3               1              0.7137   \n",
       "4       4               2              0.1835   \n",
       "\n",
       "                                      Topic_Keywords  \\\n",
       "0  faire, video, jamais, jour, entendre, america,...   \n",
       "1  creator, tyler, cheveux, arriere, chill, moche...   \n",
       "2  video, trop, fois, bien, prononcer, passer, ad...   \n",
       "3  donald, glover, voir, serie, community, voix, ...   \n",
       "4  video, trop, fois, bien, prononcer, passer, ad...   \n",
       "\n",
       "                                                Text  \n",
       "0  ['odoo', 'sponsor', 'decouvrir', 'odoo', 'cliq...  \n",
       "1                 ['video_sur', 'tyler_the_creator']  \n",
       "2                     ['mort_de_rire', 'disclaimer']  \n",
       "3                ['voir', 'serie', 'earn', 'alfred']  \n",
       "4  ['reupload', 'impression', 'deja_vu', 'critiqu...  "
      ]
     },
     "execution_count": 7,
     "metadata": {},
     "output_type": "execute_result"
    }
   ],
   "source": [
    "res_lda = format_topics_sentences(ldamodel=model, corpus=corpus_vect, texts=df['tokens_clean_lem'])\n",
    "res_lda.head()"
   ]
  },
  {
   "cell_type": "code",
   "execution_count": 70,
   "metadata": {},
   "outputs": [
    {
     "data": {
      "text/plain": [
       "Topic_Keywords\n",
       "video, incroyable, super, artiste, histoire, beaucoup, travail, vraiment, chill, clip        789\n",
       "coupe, dire, vrai, fois, vouloir, rien, savoir, passer, choquer, nouveau                     189\n",
       "video, faire, trop, creator, tyler, prononcer, adorer, ecouter, part, grand                  155\n",
       "artiste, connaitre, vraiment, musique, interessant, decouvrir, genie, chose, cool, penser    155\n",
       "childish, gambino, jamais, entendre, prononciation, album, video, gars, preferer, dernier    131\n",
       "donald, glover, serie, community, regarder, america, atlanta, jour, acteur, film             118\n",
       "bien, aimer, trouver, video, prochain, genial, ocean, frank, sujet, vrai                     108\n",
       "cheveux, petit, arriere, voix, coiffure, falloir, moche, voir, aller, temps                   85\n",
       "Name: count, dtype: int64"
      ]
     },
     "execution_count": 70,
     "metadata": {},
     "output_type": "execute_result"
    }
   ],
   "source": [
    "res_lda['Topic_Keywords'].value_counts()"
   ]
  },
  {
   "cell_type": "code",
   "execution_count": 71,
   "metadata": {},
   "outputs": [
    {
     "data": {
      "text/plain": [
       "array(['video, faire, trop, creator, tyler, prononcer, adorer, ecouter, part, grand',\n",
       "       'video, incroyable, super, artiste, histoire, beaucoup, travail, vraiment, chill, clip',\n",
       "       'donald, glover, serie, community, regarder, america, atlanta, jour, acteur, film',\n",
       "       'cheveux, petit, arriere, voix, coiffure, falloir, moche, voir, aller, temps',\n",
       "       'coupe, dire, vrai, fois, vouloir, rien, savoir, passer, choquer, nouveau',\n",
       "       'artiste, connaitre, vraiment, musique, interessant, decouvrir, genie, chose, cool, penser',\n",
       "       'childish, gambino, jamais, entendre, prononciation, album, video, gars, preferer, dernier',\n",
       "       'bien, aimer, trouver, video, prochain, genial, ocean, frank, sujet, vrai'],\n",
       "      dtype=object)"
      ]
     },
     "execution_count": 71,
     "metadata": {},
     "output_type": "execute_result"
    }
   ],
   "source": [
    "res_lda['Topic_Keywords'].unique()"
   ]
  },
  {
   "cell_type": "code",
   "execution_count": 72,
   "metadata": {},
   "outputs": [
    {
     "name": "stdout",
     "output_type": "stream",
     "text": [
      "Coherence score: 0.3578775775115691\n"
     ]
    }
   ],
   "source": [
    "# Evaluate LDA model\n",
    "coherence = gensim.models.CoherenceModel(model=model, texts=corpus, dictionary=dictionary, coherence='c_v')\n",
    "coherence_lda = coherence.get_coherence()\n",
    "print(f\"Coherence score: {coherence_lda}\")"
   ]
  },
  {
   "cell_type": "markdown",
   "metadata": {},
   "source": [
    "# recherhce du nombre de topic optimal"
   ]
  },
  {
   "cell_type": "code",
   "execution_count": 8,
   "metadata": {},
   "outputs": [],
   "source": [
    "from gensim.models import LdaModel, CoherenceModel\n",
    "\n",
    "def compute_coherence_values(dictionary, corpus, corpus_vect, start, limit, step):\n",
    "    coherence_values_cv = []\n",
    "    coherence_values_umass = []\n",
    "    coherence_values_npmi = []\n",
    "    perplexity_values = []\n",
    "    model_list = []\n",
    "\n",
    "    for num_topics in range(start, limit + 1, step):\n",
    "        model = LdaModel(corpus=corpus,\n",
    "                        id2word=dictionary,\n",
    "                        alpha='auto',\n",
    "                        eta='auto',\n",
    "                        iterations=400,\n",
    "                        num_topics=num_topics,\n",
    "                        chunksize=2000,\n",
    "                        passes=50,\n",
    "                        eval_every=None\n",
    "                        )\n",
    "        model_list.append(model)\n",
    "\n",
    "        cm_cv = CoherenceModel(model=model, texts=corpus, corpus=corpus_vect, dictionary=dictionary, coherence='c_v')\n",
    "        coherence_values_cv.append(cm_cv.get_coherence())\n",
    "\n",
    "        # Cohérence U_MASS\n",
    "        cm_umass = CoherenceModel(model=model, texts=corpus, corpus=corpus_vect, dictionary=dictionary, coherence='u_mass')\n",
    "        coherence_values_umass.append(cm_umass.get_coherence())\n",
    "\n",
    "        # Cohérence NPMI\n",
    "        cm_npmi = CoherenceModel(model=model, texts=corpus, corpus=corpus_vect, dictionary=dictionary, coherence='c_npmi')\n",
    "        coherence_values_npmi.append(cm_npmi.get_coherence())\n",
    "\n",
    "        # Perplexité\n",
    "        perplexity_values.append(model.log_perplexity(corpus))\n",
    "\n",
    "        # coherencemodel = CoherenceModel(model=model, corpus=corpus, texts=texts, dictionary=dictionary, coherence='c_v')\n",
    "        # coherence_values.append(coherencemodel.get_coherence())\n",
    "\n",
    "    return model_list, coherence_values_cv, coherence_values_umass, coherence_values_npmi, perplexity_values\n",
    "\n"
   ]
  },
  {
   "cell_type": "code",
   "execution_count": 13,
   "metadata": {},
   "outputs": [
    {
     "ename": "ValueError",
     "evalue": "too many values to unpack (expected 2)",
     "output_type": "error",
     "traceback": [
      "\u001b[0;31m---------------------------------------------------------------------------\u001b[0m",
      "\u001b[0;31mValueError\u001b[0m                                Traceback (most recent call last)",
      "Cell \u001b[0;32mIn[13], line 7\u001b[0m\n\u001b[1;32m      4\u001b[0m step \u001b[38;5;241m=\u001b[39m \u001b[38;5;241m1\u001b[39m\n\u001b[1;32m      6\u001b[0m \u001b[38;5;66;03m# Calcul des valeurs de cohérence\u001b[39;00m\n\u001b[0;32m----> 7\u001b[0m model_list, cv_scores, umass_scores, npmi_scores, perplexities \u001b[38;5;241m=\u001b[39m \u001b[43mcompute_coherence_values\u001b[49m\u001b[43m(\u001b[49m\u001b[43mdictionary\u001b[49m\u001b[38;5;241;43m=\u001b[39;49m\u001b[43mdictionary\u001b[49m\u001b[43m,\u001b[49m\u001b[43m \u001b[49m\u001b[43mcorpus\u001b[49m\u001b[38;5;241;43m=\u001b[39;49m\u001b[43mcorpus\u001b[49m\u001b[43m,\u001b[49m\u001b[43m \u001b[49m\u001b[43mcorpus_vect\u001b[49m\u001b[38;5;241;43m=\u001b[39;49m\u001b[43mcorpus_vect\u001b[49m\u001b[43m,\u001b[49m\u001b[43m \u001b[49m\u001b[43mstart\u001b[49m\u001b[38;5;241;43m=\u001b[39;49m\u001b[43mstart\u001b[49m\u001b[43m,\u001b[49m\u001b[43m \u001b[49m\u001b[43mlimit\u001b[49m\u001b[38;5;241;43m=\u001b[39;49m\u001b[43mlimit\u001b[49m\u001b[43m,\u001b[49m\u001b[43m \u001b[49m\u001b[43mstep\u001b[49m\u001b[38;5;241;43m=\u001b[39;49m\u001b[43mstep\u001b[49m\u001b[43m)\u001b[49m\n\u001b[1;32m      9\u001b[0m \u001b[38;5;66;03m# Affichage des résultats\u001b[39;00m\n\u001b[1;32m     10\u001b[0m x \u001b[38;5;241m=\u001b[39m \u001b[38;5;28mrange\u001b[39m(start, limit \u001b[38;5;241m+\u001b[39m \u001b[38;5;241m1\u001b[39m, step)\n",
      "Cell \u001b[0;32mIn[8], line 11\u001b[0m, in \u001b[0;36mcompute_coherence_values\u001b[0;34m(dictionary, corpus, corpus_vect, start, limit, step)\u001b[0m\n\u001b[1;32m      8\u001b[0m model_list \u001b[38;5;241m=\u001b[39m []\n\u001b[1;32m     10\u001b[0m \u001b[38;5;28;01mfor\u001b[39;00m num_topics \u001b[38;5;129;01min\u001b[39;00m \u001b[38;5;28mrange\u001b[39m(start, limit \u001b[38;5;241m+\u001b[39m \u001b[38;5;241m1\u001b[39m, step):\n\u001b[0;32m---> 11\u001b[0m     model \u001b[38;5;241m=\u001b[39m \u001b[43mLdaModel\u001b[49m\u001b[43m(\u001b[49m\u001b[43mcorpus\u001b[49m\u001b[38;5;241;43m=\u001b[39;49m\u001b[43mcorpus\u001b[49m\u001b[43m,\u001b[49m\n\u001b[1;32m     12\u001b[0m \u001b[43m                    \u001b[49m\u001b[43mid2word\u001b[49m\u001b[38;5;241;43m=\u001b[39;49m\u001b[43mdictionary\u001b[49m\u001b[43m,\u001b[49m\n\u001b[1;32m     13\u001b[0m \u001b[43m                    \u001b[49m\u001b[43malpha\u001b[49m\u001b[38;5;241;43m=\u001b[39;49m\u001b[38;5;124;43m'\u001b[39;49m\u001b[38;5;124;43mauto\u001b[39;49m\u001b[38;5;124;43m'\u001b[39;49m\u001b[43m,\u001b[49m\n\u001b[1;32m     14\u001b[0m \u001b[43m                    \u001b[49m\u001b[43meta\u001b[49m\u001b[38;5;241;43m=\u001b[39;49m\u001b[38;5;124;43m'\u001b[39;49m\u001b[38;5;124;43mauto\u001b[39;49m\u001b[38;5;124;43m'\u001b[39;49m\u001b[43m,\u001b[49m\n\u001b[1;32m     15\u001b[0m \u001b[43m                    \u001b[49m\u001b[43miterations\u001b[49m\u001b[38;5;241;43m=\u001b[39;49m\u001b[38;5;241;43m400\u001b[39;49m\u001b[43m,\u001b[49m\n\u001b[1;32m     16\u001b[0m \u001b[43m                    \u001b[49m\u001b[43mnum_topics\u001b[49m\u001b[38;5;241;43m=\u001b[39;49m\u001b[43mnum_topics\u001b[49m\u001b[43m,\u001b[49m\n\u001b[1;32m     17\u001b[0m \u001b[43m                    \u001b[49m\u001b[43mchunksize\u001b[49m\u001b[38;5;241;43m=\u001b[39;49m\u001b[38;5;241;43m2000\u001b[39;49m\u001b[43m,\u001b[49m\n\u001b[1;32m     18\u001b[0m \u001b[43m                    \u001b[49m\u001b[43mpasses\u001b[49m\u001b[38;5;241;43m=\u001b[39;49m\u001b[38;5;241;43m50\u001b[39;49m\u001b[43m,\u001b[49m\n\u001b[1;32m     19\u001b[0m \u001b[43m                    \u001b[49m\u001b[43meval_every\u001b[49m\u001b[38;5;241;43m=\u001b[39;49m\u001b[38;5;28;43;01mNone\u001b[39;49;00m\n\u001b[1;32m     20\u001b[0m \u001b[43m                    \u001b[49m\u001b[43m)\u001b[49m\n\u001b[1;32m     21\u001b[0m     model_list\u001b[38;5;241m.\u001b[39mappend(model)\n\u001b[1;32m     23\u001b[0m     cm_cv \u001b[38;5;241m=\u001b[39m CoherenceModel(model\u001b[38;5;241m=\u001b[39mmodel, texts\u001b[38;5;241m=\u001b[39mcorpus, corpus\u001b[38;5;241m=\u001b[39mcorpus_vect, dictionary\u001b[38;5;241m=\u001b[39mdictionary, coherence\u001b[38;5;241m=\u001b[39m\u001b[38;5;124m'\u001b[39m\u001b[38;5;124mc_v\u001b[39m\u001b[38;5;124m'\u001b[39m)\n",
      "File \u001b[0;32m~/Desktop/GitHub/Projet-RNCP/.venv/lib/python3.10/site-packages/gensim/models/ldamodel.py:521\u001b[0m, in \u001b[0;36mLdaModel.__init__\u001b[0;34m(self, corpus, num_topics, id2word, distributed, chunksize, passes, update_every, alpha, eta, decay, offset, eval_every, iterations, gamma_threshold, minimum_probability, random_state, ns_conf, minimum_phi_value, per_word_topics, callbacks, dtype)\u001b[0m\n\u001b[1;32m    519\u001b[0m use_numpy \u001b[38;5;241m=\u001b[39m \u001b[38;5;28mself\u001b[39m\u001b[38;5;241m.\u001b[39mdispatcher \u001b[38;5;129;01mis\u001b[39;00m \u001b[38;5;129;01mnot\u001b[39;00m \u001b[38;5;28;01mNone\u001b[39;00m\n\u001b[1;32m    520\u001b[0m start \u001b[38;5;241m=\u001b[39m time\u001b[38;5;241m.\u001b[39mtime()\n\u001b[0;32m--> 521\u001b[0m \u001b[38;5;28;43mself\u001b[39;49m\u001b[38;5;241;43m.\u001b[39;49m\u001b[43mupdate\u001b[49m\u001b[43m(\u001b[49m\u001b[43mcorpus\u001b[49m\u001b[43m,\u001b[49m\u001b[43m \u001b[49m\u001b[43mchunks_as_numpy\u001b[49m\u001b[38;5;241;43m=\u001b[39;49m\u001b[43muse_numpy\u001b[49m\u001b[43m)\u001b[49m\n\u001b[1;32m    522\u001b[0m \u001b[38;5;28mself\u001b[39m\u001b[38;5;241m.\u001b[39madd_lifecycle_event(\n\u001b[1;32m    523\u001b[0m     \u001b[38;5;124m\"\u001b[39m\u001b[38;5;124mcreated\u001b[39m\u001b[38;5;124m\"\u001b[39m,\n\u001b[1;32m    524\u001b[0m     msg\u001b[38;5;241m=\u001b[39m\u001b[38;5;124mf\u001b[39m\u001b[38;5;124m\"\u001b[39m\u001b[38;5;124mtrained \u001b[39m\u001b[38;5;132;01m{\u001b[39;00m\u001b[38;5;28mself\u001b[39m\u001b[38;5;132;01m}\u001b[39;00m\u001b[38;5;124m in \u001b[39m\u001b[38;5;132;01m{\u001b[39;00mtime\u001b[38;5;241m.\u001b[39mtime()\u001b[38;5;250m \u001b[39m\u001b[38;5;241m-\u001b[39m\u001b[38;5;250m \u001b[39mstart\u001b[38;5;132;01m:\u001b[39;00m\u001b[38;5;124m.2f\u001b[39m\u001b[38;5;132;01m}\u001b[39;00m\u001b[38;5;124ms\u001b[39m\u001b[38;5;124m\"\u001b[39m,\n\u001b[1;32m    525\u001b[0m )\n",
      "File \u001b[0;32m~/Desktop/GitHub/Projet-RNCP/.venv/lib/python3.10/site-packages/gensim/models/ldamodel.py:1006\u001b[0m, in \u001b[0;36mLdaModel.update\u001b[0;34m(self, corpus, chunksize, decay, offset, passes, update_every, eval_every, iterations, gamma_threshold, chunks_as_numpy)\u001b[0m\n\u001b[1;32m   1001\u001b[0m \u001b[38;5;28;01melse\u001b[39;00m:\n\u001b[1;32m   1002\u001b[0m     logger\u001b[38;5;241m.\u001b[39minfo(\n\u001b[1;32m   1003\u001b[0m         \u001b[38;5;124m\"\u001b[39m\u001b[38;5;124mPROGRESS: pass \u001b[39m\u001b[38;5;132;01m%i\u001b[39;00m\u001b[38;5;124m, at document #\u001b[39m\u001b[38;5;132;01m%i\u001b[39;00m\u001b[38;5;124m/\u001b[39m\u001b[38;5;132;01m%i\u001b[39;00m\u001b[38;5;124m\"\u001b[39m,\n\u001b[1;32m   1004\u001b[0m         pass_, chunk_no \u001b[38;5;241m*\u001b[39m chunksize \u001b[38;5;241m+\u001b[39m \u001b[38;5;28mlen\u001b[39m(chunk), lencorpus\n\u001b[1;32m   1005\u001b[0m     )\n\u001b[0;32m-> 1006\u001b[0m     gammat \u001b[38;5;241m=\u001b[39m \u001b[38;5;28;43mself\u001b[39;49m\u001b[38;5;241;43m.\u001b[39;49m\u001b[43mdo_estep\u001b[49m\u001b[43m(\u001b[49m\u001b[43mchunk\u001b[49m\u001b[43m,\u001b[49m\u001b[43m \u001b[49m\u001b[43mother\u001b[49m\u001b[43m)\u001b[49m\n\u001b[1;32m   1008\u001b[0m     \u001b[38;5;28;01mif\u001b[39;00m \u001b[38;5;28mself\u001b[39m\u001b[38;5;241m.\u001b[39moptimize_alpha:\n\u001b[1;32m   1009\u001b[0m         \u001b[38;5;28mself\u001b[39m\u001b[38;5;241m.\u001b[39mupdate_alpha(gammat, rho())\n",
      "File \u001b[0;32m~/Desktop/GitHub/Projet-RNCP/.venv/lib/python3.10/site-packages/gensim/models/ldamodel.py:768\u001b[0m, in \u001b[0;36mLdaModel.do_estep\u001b[0;34m(self, chunk, state)\u001b[0m\n\u001b[1;32m    766\u001b[0m \u001b[38;5;28;01mif\u001b[39;00m state \u001b[38;5;129;01mis\u001b[39;00m \u001b[38;5;28;01mNone\u001b[39;00m:\n\u001b[1;32m    767\u001b[0m     state \u001b[38;5;241m=\u001b[39m \u001b[38;5;28mself\u001b[39m\u001b[38;5;241m.\u001b[39mstate\n\u001b[0;32m--> 768\u001b[0m gamma, sstats \u001b[38;5;241m=\u001b[39m \u001b[38;5;28;43mself\u001b[39;49m\u001b[38;5;241;43m.\u001b[39;49m\u001b[43minference\u001b[49m\u001b[43m(\u001b[49m\u001b[43mchunk\u001b[49m\u001b[43m,\u001b[49m\u001b[43m \u001b[49m\u001b[43mcollect_sstats\u001b[49m\u001b[38;5;241;43m=\u001b[39;49m\u001b[38;5;28;43;01mTrue\u001b[39;49;00m\u001b[43m)\u001b[49m\n\u001b[1;32m    769\u001b[0m state\u001b[38;5;241m.\u001b[39msstats \u001b[38;5;241m+\u001b[39m\u001b[38;5;241m=\u001b[39m sstats\n\u001b[1;32m    770\u001b[0m state\u001b[38;5;241m.\u001b[39mnumdocs \u001b[38;5;241m+\u001b[39m\u001b[38;5;241m=\u001b[39m gamma\u001b[38;5;241m.\u001b[39mshape[\u001b[38;5;241m0\u001b[39m]  \u001b[38;5;66;03m# avoids calling len(chunk) on a generator\u001b[39;00m\n",
      "File \u001b[0;32m~/Desktop/GitHub/Projet-RNCP/.venv/lib/python3.10/site-packages/gensim/models/ldamodel.py:699\u001b[0m, in \u001b[0;36mLdaModel.inference\u001b[0;34m(self, chunk, collect_sstats)\u001b[0m\n\u001b[1;32m    696\u001b[0m \u001b[38;5;28;01mfor\u001b[39;00m d, doc \u001b[38;5;129;01min\u001b[39;00m \u001b[38;5;28menumerate\u001b[39m(chunk):\n\u001b[1;32m    697\u001b[0m     \u001b[38;5;28;01mif\u001b[39;00m \u001b[38;5;28mlen\u001b[39m(doc) \u001b[38;5;241m>\u001b[39m \u001b[38;5;241m0\u001b[39m \u001b[38;5;129;01mand\u001b[39;00m \u001b[38;5;129;01mnot\u001b[39;00m \u001b[38;5;28misinstance\u001b[39m(doc[\u001b[38;5;241m0\u001b[39m][\u001b[38;5;241m0\u001b[39m], integer_types):\n\u001b[1;32m    698\u001b[0m         \u001b[38;5;66;03m# make sure the term IDs are ints, otherwise np will get upset\u001b[39;00m\n\u001b[0;32m--> 699\u001b[0m         ids \u001b[38;5;241m=\u001b[39m [\u001b[38;5;28mint\u001b[39m(idx) \u001b[38;5;28;01mfor\u001b[39;00m idx, _ \u001b[38;5;129;01min\u001b[39;00m doc]\n\u001b[1;32m    700\u001b[0m     \u001b[38;5;28;01melse\u001b[39;00m:\n\u001b[1;32m    701\u001b[0m         ids \u001b[38;5;241m=\u001b[39m [idx \u001b[38;5;28;01mfor\u001b[39;00m idx, _ \u001b[38;5;129;01min\u001b[39;00m doc]\n",
      "File \u001b[0;32m~/Desktop/GitHub/Projet-RNCP/.venv/lib/python3.10/site-packages/gensim/models/ldamodel.py:699\u001b[0m, in \u001b[0;36m<listcomp>\u001b[0;34m(.0)\u001b[0m\n\u001b[1;32m    696\u001b[0m \u001b[38;5;28;01mfor\u001b[39;00m d, doc \u001b[38;5;129;01min\u001b[39;00m \u001b[38;5;28menumerate\u001b[39m(chunk):\n\u001b[1;32m    697\u001b[0m     \u001b[38;5;28;01mif\u001b[39;00m \u001b[38;5;28mlen\u001b[39m(doc) \u001b[38;5;241m>\u001b[39m \u001b[38;5;241m0\u001b[39m \u001b[38;5;129;01mand\u001b[39;00m \u001b[38;5;129;01mnot\u001b[39;00m \u001b[38;5;28misinstance\u001b[39m(doc[\u001b[38;5;241m0\u001b[39m][\u001b[38;5;241m0\u001b[39m], integer_types):\n\u001b[1;32m    698\u001b[0m         \u001b[38;5;66;03m# make sure the term IDs are ints, otherwise np will get upset\u001b[39;00m\n\u001b[0;32m--> 699\u001b[0m         ids \u001b[38;5;241m=\u001b[39m [\u001b[38;5;28mint\u001b[39m(idx) \u001b[38;5;28;01mfor\u001b[39;00m idx, _ \u001b[38;5;129;01min\u001b[39;00m doc]\n\u001b[1;32m    700\u001b[0m     \u001b[38;5;28;01melse\u001b[39;00m:\n\u001b[1;32m    701\u001b[0m         ids \u001b[38;5;241m=\u001b[39m [idx \u001b[38;5;28;01mfor\u001b[39;00m idx, _ \u001b[38;5;129;01min\u001b[39;00m doc]\n",
      "\u001b[0;31mValueError\u001b[0m: too many values to unpack (expected 2)"
     ]
    }
   ],
   "source": [
    "# Paramètres\n",
    "start = 3\n",
    "limit = 30\n",
    "step = 1\n",
    "\n",
    "# Calcul des valeurs de cohérence\n",
    "model_list, cv_scores, umass_scores, npmi_scores, perplexities = compute_coherence_values(dictionary=dictionary, corpus=corpus, corpus_vect=corpus_vect, start=start, limit=limit, step=step)\n",
    "\n",
    "# Affichage des résultats\n",
    "x = range(start, limit + 1, step)\n",
    "\n",
    "# Affichage des scores de cohérence\n",
    "for num_topics, cv, um, npmi, perp in zip(x, cv_scores, umass_scores, npmi_scores, perplexities):\n",
    "    # print(f\"Nombre de topics = {m}, Score de cohérence = {round(cv, 4)}\")\n",
    "    print(f\"Topics={num_topics} | C_V={cv:.4f} | U_MASS={um:.4f} | NPMI={npmi:.4f} | Perplexité={perp:.4f}\")\n",
    "\n",
    "\n",
    "# Trouver le nombre optimal de topics\n",
    "optimal_model_index = np.argmax(cv_scores)\n",
    "optimal_num_topics = x[optimal_model_index]\n",
    "print(f\"Nombre optimal de topics : {optimal_num_topics} avec un score de cohérence de {cv_scores[optimal_model_index]}\")\n",
    "# Affichage du modèle optimal\n",
    "optimal_model = model_list[optimal_model_index]"
   ]
  },
  {
   "cell_type": "markdown",
   "metadata": {},
   "source": [
    "# BERTopic"
   ]
  },
  {
   "cell_type": "markdown",
   "metadata": {},
   "source": [
    "# LLM INTERPRETATION"
   ]
  },
  {
   "cell_type": "code",
   "execution_count": 139,
   "metadata": {},
   "outputs": [
    {
     "ename": "TypeError",
     "evalue": "Object of type ndarray is not JSON serializable",
     "output_type": "error",
     "traceback": [
      "\u001b[0;31m---------------------------------------------------------------------------\u001b[0m",
      "\u001b[0;31mTypeError\u001b[0m                                 Traceback (most recent call last)",
      "Cell \u001b[0;32mIn[139], line 9\u001b[0m\n\u001b[1;32m      3\u001b[0m HF_token \u001b[38;5;241m=\u001b[39m \u001b[38;5;28mopen\u001b[39m(\u001b[38;5;124m\"\u001b[39m\u001b[38;5;124m../token_hf.txt\u001b[39m\u001b[38;5;124m\"\u001b[39m, \u001b[38;5;124m\"\u001b[39m\u001b[38;5;124mr\u001b[39m\u001b[38;5;124m\"\u001b[39m)\u001b[38;5;241m.\u001b[39mread()\u001b[38;5;241m.\u001b[39mstrip()\n\u001b[1;32m      4\u001b[0m client \u001b[38;5;241m=\u001b[39m InferenceClient(\n\u001b[1;32m      5\u001b[0m     provider\u001b[38;5;241m=\u001b[39m\u001b[38;5;124m\"\u001b[39m\u001b[38;5;124mnovita\u001b[39m\u001b[38;5;124m\"\u001b[39m,\n\u001b[1;32m      6\u001b[0m     api_key\u001b[38;5;241m=\u001b[39mHF_token,\n\u001b[1;32m      7\u001b[0m )\n\u001b[0;32m----> 9\u001b[0m completion \u001b[38;5;241m=\u001b[39m \u001b[43mclient\u001b[49m\u001b[38;5;241;43m.\u001b[39;49m\u001b[43mchat\u001b[49m\u001b[38;5;241;43m.\u001b[39;49m\u001b[43mcompletions\u001b[49m\u001b[38;5;241;43m.\u001b[39;49m\u001b[43mcreate\u001b[49m\u001b[43m(\u001b[49m\n\u001b[1;32m     10\u001b[0m \u001b[43m    \u001b[49m\u001b[43mmodel\u001b[49m\u001b[38;5;241;43m=\u001b[39;49m\u001b[38;5;124;43m\"\u001b[39;49m\u001b[38;5;124;43mmistralai/Mistral-7B-Instruct-v0.3\u001b[39;49m\u001b[38;5;124;43m\"\u001b[39;49m\u001b[43m,\u001b[49m\n\u001b[1;32m     11\u001b[0m \u001b[43m    \u001b[49m\u001b[43mmessages\u001b[49m\u001b[38;5;241;43m=\u001b[39;49m\u001b[43m[\u001b[49m\n\u001b[1;32m     12\u001b[0m \u001b[43m        \u001b[49m\u001b[43m{\u001b[49m\u001b[38;5;124;43m\"\u001b[39;49m\u001b[38;5;124;43mrole\u001b[39;49m\u001b[38;5;124;43m\"\u001b[39;49m\u001b[43m:\u001b[49m\u001b[43m \u001b[49m\u001b[38;5;124;43m\"\u001b[39;49m\u001b[38;5;124;43msystem\u001b[39;49m\u001b[38;5;124;43m\"\u001b[39;49m\u001b[43m,\u001b[49m\u001b[43m \u001b[49m\n\u001b[1;32m     13\u001b[0m \u001b[43m        \u001b[49m\u001b[38;5;124;43m\"\u001b[39;49m\u001b[38;5;124;43mcontent\u001b[39;49m\u001b[38;5;124;43m\"\u001b[39;49m\u001b[43m:\u001b[49m\u001b[43m \u001b[49m\u001b[38;5;124;43m\"\u001b[39;49m\u001b[38;5;124;43mTu es un data scientist spécialisé en NLP.\u001b[39;49m\u001b[38;5;124;43m\"\u001b[39;49m\u001b[43m}\u001b[49m\u001b[43m,\u001b[49m\n\u001b[1;32m     14\u001b[0m \u001b[43m        \u001b[49m\u001b[43m{\u001b[49m\n\u001b[1;32m     15\u001b[0m \u001b[43m            \u001b[49m\u001b[38;5;124;43m\"\u001b[39;49m\u001b[38;5;124;43mrole\u001b[39;49m\u001b[38;5;124;43m\"\u001b[39;49m\u001b[43m:\u001b[49m\u001b[43m \u001b[49m\u001b[38;5;124;43m\"\u001b[39;49m\u001b[38;5;124;43muser \u001b[39;49m\u001b[38;5;124;43m\"\u001b[39;49m\u001b[43m,\u001b[49m\n\u001b[1;32m     16\u001b[0m \u001b[43m            \u001b[49m\u001b[38;5;124;43m\"\u001b[39;49m\u001b[38;5;124;43mcontent\u001b[39;49m\u001b[38;5;124;43m\"\u001b[39;49m\u001b[43m:\u001b[49m\u001b[43m \u001b[49m\u001b[38;5;124;43m\"\u001b[39;49m\u001b[38;5;124;43m Résume en un mots les mots clés suivants : \u001b[39;49m\u001b[38;5;124;43m\"\u001b[39;49m\u001b[43m \u001b[49m\u001b[38;5;241;43m+\u001b[39;49m\u001b[43m \u001b[49m\u001b[43mres_lda\u001b[49m\u001b[43m[\u001b[49m\u001b[38;5;124;43m'\u001b[39;49m\u001b[38;5;124;43mTopic_Keywords\u001b[39;49m\u001b[38;5;124;43m'\u001b[39;49m\u001b[43m]\u001b[49m\u001b[38;5;241;43m.\u001b[39;49m\u001b[43munique\u001b[49m\u001b[43m(\u001b[49m\u001b[43m)\u001b[49m\n\u001b[1;32m     17\u001b[0m \u001b[43m        \u001b[49m\u001b[43m}\u001b[49m\n\u001b[1;32m     18\u001b[0m \u001b[43m    \u001b[49m\u001b[43m]\u001b[49m\u001b[43m,\u001b[49m\u001b[43mtemperature\u001b[49m\u001b[38;5;241;43m=\u001b[39;49m\u001b[38;5;241;43m0.0\u001b[39;49m\n\u001b[1;32m     19\u001b[0m \u001b[43m)\u001b[49m\n\u001b[1;32m     21\u001b[0m \u001b[38;5;28mprint\u001b[39m(completion\u001b[38;5;241m.\u001b[39mchoices[\u001b[38;5;241m0\u001b[39m]\u001b[38;5;241m.\u001b[39mmessage)\n",
      "File \u001b[0;32m~/Desktop/GitHub/Projet-RNCP/.venv/lib/python3.10/site-packages/huggingface_hub/inference/_client.py:924\u001b[0m, in \u001b[0;36mInferenceClient.chat_completion\u001b[0;34m(self, messages, model, stream, frequency_penalty, logit_bias, logprobs, max_tokens, n, presence_penalty, response_format, seed, stop, stream_options, temperature, tool_choice, tool_prompt, tools, top_logprobs, top_p, extra_body)\u001b[0m\n\u001b[1;32m    896\u001b[0m parameters \u001b[38;5;241m=\u001b[39m {\n\u001b[1;32m    897\u001b[0m     \u001b[38;5;124m\"\u001b[39m\u001b[38;5;124mmodel\u001b[39m\u001b[38;5;124m\"\u001b[39m: payload_model,\n\u001b[1;32m    898\u001b[0m     \u001b[38;5;124m\"\u001b[39m\u001b[38;5;124mfrequency_penalty\u001b[39m\u001b[38;5;124m\"\u001b[39m: frequency_penalty,\n\u001b[0;32m   (...)\u001b[0m\n\u001b[1;32m    915\u001b[0m     \u001b[38;5;241m*\u001b[39m\u001b[38;5;241m*\u001b[39m(extra_body \u001b[38;5;129;01mor\u001b[39;00m {}),\n\u001b[1;32m    916\u001b[0m }\n\u001b[1;32m    917\u001b[0m request_parameters \u001b[38;5;241m=\u001b[39m provider_helper\u001b[38;5;241m.\u001b[39mprepare_request(\n\u001b[1;32m    918\u001b[0m     inputs\u001b[38;5;241m=\u001b[39mmessages,\n\u001b[1;32m    919\u001b[0m     parameters\u001b[38;5;241m=\u001b[39mparameters,\n\u001b[0;32m   (...)\u001b[0m\n\u001b[1;32m    922\u001b[0m     api_key\u001b[38;5;241m=\u001b[39m\u001b[38;5;28mself\u001b[39m\u001b[38;5;241m.\u001b[39mtoken,\n\u001b[1;32m    923\u001b[0m )\n\u001b[0;32m--> 924\u001b[0m data \u001b[38;5;241m=\u001b[39m \u001b[38;5;28;43mself\u001b[39;49m\u001b[38;5;241;43m.\u001b[39;49m\u001b[43m_inner_post\u001b[49m\u001b[43m(\u001b[49m\u001b[43mrequest_parameters\u001b[49m\u001b[43m,\u001b[49m\u001b[43m \u001b[49m\u001b[43mstream\u001b[49m\u001b[38;5;241;43m=\u001b[39;49m\u001b[43mstream\u001b[49m\u001b[43m)\u001b[49m\n\u001b[1;32m    926\u001b[0m \u001b[38;5;28;01mif\u001b[39;00m stream:\n\u001b[1;32m    927\u001b[0m     \u001b[38;5;28;01mreturn\u001b[39;00m _stream_chat_completion_response(data)  \u001b[38;5;66;03m# type: ignore[arg-type]\u001b[39;00m\n",
      "File \u001b[0;32m~/Desktop/GitHub/Projet-RNCP/.venv/lib/python3.10/site-packages/huggingface_hub/inference/_client.py:265\u001b[0m, in \u001b[0;36mInferenceClient._inner_post\u001b[0;34m(self, request_parameters, stream)\u001b[0m\n\u001b[1;32m    263\u001b[0m \u001b[38;5;28;01mwith\u001b[39;00m _open_as_binary(request_parameters\u001b[38;5;241m.\u001b[39mdata) \u001b[38;5;28;01mas\u001b[39;00m data_as_binary:\n\u001b[1;32m    264\u001b[0m     \u001b[38;5;28;01mtry\u001b[39;00m:\n\u001b[0;32m--> 265\u001b[0m         response \u001b[38;5;241m=\u001b[39m \u001b[43mget_session\u001b[49m\u001b[43m(\u001b[49m\u001b[43m)\u001b[49m\u001b[38;5;241;43m.\u001b[39;49m\u001b[43mpost\u001b[49m\u001b[43m(\u001b[49m\n\u001b[1;32m    266\u001b[0m \u001b[43m            \u001b[49m\u001b[43mrequest_parameters\u001b[49m\u001b[38;5;241;43m.\u001b[39;49m\u001b[43murl\u001b[49m\u001b[43m,\u001b[49m\n\u001b[1;32m    267\u001b[0m \u001b[43m            \u001b[49m\u001b[43mjson\u001b[49m\u001b[38;5;241;43m=\u001b[39;49m\u001b[43mrequest_parameters\u001b[49m\u001b[38;5;241;43m.\u001b[39;49m\u001b[43mjson\u001b[49m\u001b[43m,\u001b[49m\n\u001b[1;32m    268\u001b[0m \u001b[43m            \u001b[49m\u001b[43mdata\u001b[49m\u001b[38;5;241;43m=\u001b[39;49m\u001b[43mdata_as_binary\u001b[49m\u001b[43m,\u001b[49m\n\u001b[1;32m    269\u001b[0m \u001b[43m            \u001b[49m\u001b[43mheaders\u001b[49m\u001b[38;5;241;43m=\u001b[39;49m\u001b[43mrequest_parameters\u001b[49m\u001b[38;5;241;43m.\u001b[39;49m\u001b[43mheaders\u001b[49m\u001b[43m,\u001b[49m\n\u001b[1;32m    270\u001b[0m \u001b[43m            \u001b[49m\u001b[43mcookies\u001b[49m\u001b[38;5;241;43m=\u001b[39;49m\u001b[38;5;28;43mself\u001b[39;49m\u001b[38;5;241;43m.\u001b[39;49m\u001b[43mcookies\u001b[49m\u001b[43m,\u001b[49m\n\u001b[1;32m    271\u001b[0m \u001b[43m            \u001b[49m\u001b[43mtimeout\u001b[49m\u001b[38;5;241;43m=\u001b[39;49m\u001b[38;5;28;43mself\u001b[39;49m\u001b[38;5;241;43m.\u001b[39;49m\u001b[43mtimeout\u001b[49m\u001b[43m,\u001b[49m\n\u001b[1;32m    272\u001b[0m \u001b[43m            \u001b[49m\u001b[43mstream\u001b[49m\u001b[38;5;241;43m=\u001b[39;49m\u001b[43mstream\u001b[49m\u001b[43m,\u001b[49m\n\u001b[1;32m    273\u001b[0m \u001b[43m            \u001b[49m\u001b[43mproxies\u001b[49m\u001b[38;5;241;43m=\u001b[39;49m\u001b[38;5;28;43mself\u001b[39;49m\u001b[38;5;241;43m.\u001b[39;49m\u001b[43mproxies\u001b[49m\u001b[43m,\u001b[49m\n\u001b[1;32m    274\u001b[0m \u001b[43m        \u001b[49m\u001b[43m)\u001b[49m\n\u001b[1;32m    275\u001b[0m     \u001b[38;5;28;01mexcept\u001b[39;00m \u001b[38;5;167;01mTimeoutError\u001b[39;00m \u001b[38;5;28;01mas\u001b[39;00m error:\n\u001b[1;32m    276\u001b[0m         \u001b[38;5;66;03m# Convert any `TimeoutError` to a `InferenceTimeoutError`\u001b[39;00m\n\u001b[1;32m    277\u001b[0m         \u001b[38;5;28;01mraise\u001b[39;00m InferenceTimeoutError(\u001b[38;5;124mf\u001b[39m\u001b[38;5;124m\"\u001b[39m\u001b[38;5;124mInference call timed out: \u001b[39m\u001b[38;5;132;01m{\u001b[39;00mrequest_parameters\u001b[38;5;241m.\u001b[39murl\u001b[38;5;132;01m}\u001b[39;00m\u001b[38;5;124m\"\u001b[39m) \u001b[38;5;28;01mfrom\u001b[39;00m\u001b[38;5;250m \u001b[39m\u001b[38;5;21;01merror\u001b[39;00m  \u001b[38;5;66;03m# type: ignore\u001b[39;00m\n",
      "File \u001b[0;32m~/Desktop/GitHub/Projet-RNCP/.venv/lib/python3.10/site-packages/requests/sessions.py:637\u001b[0m, in \u001b[0;36mSession.post\u001b[0;34m(self, url, data, json, **kwargs)\u001b[0m\n\u001b[1;32m    626\u001b[0m \u001b[38;5;28;01mdef\u001b[39;00m\u001b[38;5;250m \u001b[39m\u001b[38;5;21mpost\u001b[39m(\u001b[38;5;28mself\u001b[39m, url, data\u001b[38;5;241m=\u001b[39m\u001b[38;5;28;01mNone\u001b[39;00m, json\u001b[38;5;241m=\u001b[39m\u001b[38;5;28;01mNone\u001b[39;00m, \u001b[38;5;241m*\u001b[39m\u001b[38;5;241m*\u001b[39mkwargs):\n\u001b[1;32m    627\u001b[0m \u001b[38;5;250m    \u001b[39m\u001b[38;5;124mr\u001b[39m\u001b[38;5;124;03m\"\"\"Sends a POST request. Returns :class:`Response` object.\u001b[39;00m\n\u001b[1;32m    628\u001b[0m \n\u001b[1;32m    629\u001b[0m \u001b[38;5;124;03m    :param url: URL for the new :class:`Request` object.\u001b[39;00m\n\u001b[0;32m   (...)\u001b[0m\n\u001b[1;32m    634\u001b[0m \u001b[38;5;124;03m    :rtype: requests.Response\u001b[39;00m\n\u001b[1;32m    635\u001b[0m \u001b[38;5;124;03m    \"\"\"\u001b[39;00m\n\u001b[0;32m--> 637\u001b[0m     \u001b[38;5;28;01mreturn\u001b[39;00m \u001b[38;5;28;43mself\u001b[39;49m\u001b[38;5;241;43m.\u001b[39;49m\u001b[43mrequest\u001b[49m\u001b[43m(\u001b[49m\u001b[38;5;124;43m\"\u001b[39;49m\u001b[38;5;124;43mPOST\u001b[39;49m\u001b[38;5;124;43m\"\u001b[39;49m\u001b[43m,\u001b[49m\u001b[43m \u001b[49m\u001b[43murl\u001b[49m\u001b[43m,\u001b[49m\u001b[43m \u001b[49m\u001b[43mdata\u001b[49m\u001b[38;5;241;43m=\u001b[39;49m\u001b[43mdata\u001b[49m\u001b[43m,\u001b[49m\u001b[43m \u001b[49m\u001b[43mjson\u001b[49m\u001b[38;5;241;43m=\u001b[39;49m\u001b[43mjson\u001b[49m\u001b[43m,\u001b[49m\u001b[43m \u001b[49m\u001b[38;5;241;43m*\u001b[39;49m\u001b[38;5;241;43m*\u001b[39;49m\u001b[43mkwargs\u001b[49m\u001b[43m)\u001b[49m\n",
      "File \u001b[0;32m~/Desktop/GitHub/Projet-RNCP/.venv/lib/python3.10/site-packages/requests/sessions.py:575\u001b[0m, in \u001b[0;36mSession.request\u001b[0;34m(self, method, url, params, data, headers, cookies, files, auth, timeout, allow_redirects, proxies, hooks, stream, verify, cert, json)\u001b[0m\n\u001b[1;32m    562\u001b[0m \u001b[38;5;66;03m# Create the Request.\u001b[39;00m\n\u001b[1;32m    563\u001b[0m req \u001b[38;5;241m=\u001b[39m Request(\n\u001b[1;32m    564\u001b[0m     method\u001b[38;5;241m=\u001b[39mmethod\u001b[38;5;241m.\u001b[39mupper(),\n\u001b[1;32m    565\u001b[0m     url\u001b[38;5;241m=\u001b[39murl,\n\u001b[0;32m   (...)\u001b[0m\n\u001b[1;32m    573\u001b[0m     hooks\u001b[38;5;241m=\u001b[39mhooks,\n\u001b[1;32m    574\u001b[0m )\n\u001b[0;32m--> 575\u001b[0m prep \u001b[38;5;241m=\u001b[39m \u001b[38;5;28;43mself\u001b[39;49m\u001b[38;5;241;43m.\u001b[39;49m\u001b[43mprepare_request\u001b[49m\u001b[43m(\u001b[49m\u001b[43mreq\u001b[49m\u001b[43m)\u001b[49m\n\u001b[1;32m    577\u001b[0m proxies \u001b[38;5;241m=\u001b[39m proxies \u001b[38;5;129;01mor\u001b[39;00m {}\n\u001b[1;32m    579\u001b[0m settings \u001b[38;5;241m=\u001b[39m \u001b[38;5;28mself\u001b[39m\u001b[38;5;241m.\u001b[39mmerge_environment_settings(\n\u001b[1;32m    580\u001b[0m     prep\u001b[38;5;241m.\u001b[39murl, proxies, stream, verify, cert\n\u001b[1;32m    581\u001b[0m )\n",
      "File \u001b[0;32m~/Desktop/GitHub/Projet-RNCP/.venv/lib/python3.10/site-packages/requests/sessions.py:484\u001b[0m, in \u001b[0;36mSession.prepare_request\u001b[0;34m(self, request)\u001b[0m\n\u001b[1;32m    481\u001b[0m     auth \u001b[38;5;241m=\u001b[39m get_netrc_auth(request\u001b[38;5;241m.\u001b[39murl)\n\u001b[1;32m    483\u001b[0m p \u001b[38;5;241m=\u001b[39m PreparedRequest()\n\u001b[0;32m--> 484\u001b[0m \u001b[43mp\u001b[49m\u001b[38;5;241;43m.\u001b[39;49m\u001b[43mprepare\u001b[49m\u001b[43m(\u001b[49m\n\u001b[1;32m    485\u001b[0m \u001b[43m    \u001b[49m\u001b[43mmethod\u001b[49m\u001b[38;5;241;43m=\u001b[39;49m\u001b[43mrequest\u001b[49m\u001b[38;5;241;43m.\u001b[39;49m\u001b[43mmethod\u001b[49m\u001b[38;5;241;43m.\u001b[39;49m\u001b[43mupper\u001b[49m\u001b[43m(\u001b[49m\u001b[43m)\u001b[49m\u001b[43m,\u001b[49m\n\u001b[1;32m    486\u001b[0m \u001b[43m    \u001b[49m\u001b[43murl\u001b[49m\u001b[38;5;241;43m=\u001b[39;49m\u001b[43mrequest\u001b[49m\u001b[38;5;241;43m.\u001b[39;49m\u001b[43murl\u001b[49m\u001b[43m,\u001b[49m\n\u001b[1;32m    487\u001b[0m \u001b[43m    \u001b[49m\u001b[43mfiles\u001b[49m\u001b[38;5;241;43m=\u001b[39;49m\u001b[43mrequest\u001b[49m\u001b[38;5;241;43m.\u001b[39;49m\u001b[43mfiles\u001b[49m\u001b[43m,\u001b[49m\n\u001b[1;32m    488\u001b[0m \u001b[43m    \u001b[49m\u001b[43mdata\u001b[49m\u001b[38;5;241;43m=\u001b[39;49m\u001b[43mrequest\u001b[49m\u001b[38;5;241;43m.\u001b[39;49m\u001b[43mdata\u001b[49m\u001b[43m,\u001b[49m\n\u001b[1;32m    489\u001b[0m \u001b[43m    \u001b[49m\u001b[43mjson\u001b[49m\u001b[38;5;241;43m=\u001b[39;49m\u001b[43mrequest\u001b[49m\u001b[38;5;241;43m.\u001b[39;49m\u001b[43mjson\u001b[49m\u001b[43m,\u001b[49m\n\u001b[1;32m    490\u001b[0m \u001b[43m    \u001b[49m\u001b[43mheaders\u001b[49m\u001b[38;5;241;43m=\u001b[39;49m\u001b[43mmerge_setting\u001b[49m\u001b[43m(\u001b[49m\n\u001b[1;32m    491\u001b[0m \u001b[43m        \u001b[49m\u001b[43mrequest\u001b[49m\u001b[38;5;241;43m.\u001b[39;49m\u001b[43mheaders\u001b[49m\u001b[43m,\u001b[49m\u001b[43m \u001b[49m\u001b[38;5;28;43mself\u001b[39;49m\u001b[38;5;241;43m.\u001b[39;49m\u001b[43mheaders\u001b[49m\u001b[43m,\u001b[49m\u001b[43m \u001b[49m\u001b[43mdict_class\u001b[49m\u001b[38;5;241;43m=\u001b[39;49m\u001b[43mCaseInsensitiveDict\u001b[49m\n\u001b[1;32m    492\u001b[0m \u001b[43m    \u001b[49m\u001b[43m)\u001b[49m\u001b[43m,\u001b[49m\n\u001b[1;32m    493\u001b[0m \u001b[43m    \u001b[49m\u001b[43mparams\u001b[49m\u001b[38;5;241;43m=\u001b[39;49m\u001b[43mmerge_setting\u001b[49m\u001b[43m(\u001b[49m\u001b[43mrequest\u001b[49m\u001b[38;5;241;43m.\u001b[39;49m\u001b[43mparams\u001b[49m\u001b[43m,\u001b[49m\u001b[43m \u001b[49m\u001b[38;5;28;43mself\u001b[39;49m\u001b[38;5;241;43m.\u001b[39;49m\u001b[43mparams\u001b[49m\u001b[43m)\u001b[49m\u001b[43m,\u001b[49m\n\u001b[1;32m    494\u001b[0m \u001b[43m    \u001b[49m\u001b[43mauth\u001b[49m\u001b[38;5;241;43m=\u001b[39;49m\u001b[43mmerge_setting\u001b[49m\u001b[43m(\u001b[49m\u001b[43mauth\u001b[49m\u001b[43m,\u001b[49m\u001b[43m \u001b[49m\u001b[38;5;28;43mself\u001b[39;49m\u001b[38;5;241;43m.\u001b[39;49m\u001b[43mauth\u001b[49m\u001b[43m)\u001b[49m\u001b[43m,\u001b[49m\n\u001b[1;32m    495\u001b[0m \u001b[43m    \u001b[49m\u001b[43mcookies\u001b[49m\u001b[38;5;241;43m=\u001b[39;49m\u001b[43mmerged_cookies\u001b[49m\u001b[43m,\u001b[49m\n\u001b[1;32m    496\u001b[0m \u001b[43m    \u001b[49m\u001b[43mhooks\u001b[49m\u001b[38;5;241;43m=\u001b[39;49m\u001b[43mmerge_hooks\u001b[49m\u001b[43m(\u001b[49m\u001b[43mrequest\u001b[49m\u001b[38;5;241;43m.\u001b[39;49m\u001b[43mhooks\u001b[49m\u001b[43m,\u001b[49m\u001b[43m \u001b[49m\u001b[38;5;28;43mself\u001b[39;49m\u001b[38;5;241;43m.\u001b[39;49m\u001b[43mhooks\u001b[49m\u001b[43m)\u001b[49m\u001b[43m,\u001b[49m\n\u001b[1;32m    497\u001b[0m \u001b[43m\u001b[49m\u001b[43m)\u001b[49m\n\u001b[1;32m    498\u001b[0m \u001b[38;5;28;01mreturn\u001b[39;00m p\n",
      "File \u001b[0;32m~/Desktop/GitHub/Projet-RNCP/.venv/lib/python3.10/site-packages/requests/models.py:370\u001b[0m, in \u001b[0;36mPreparedRequest.prepare\u001b[0;34m(self, method, url, headers, files, data, params, auth, cookies, hooks, json)\u001b[0m\n\u001b[1;32m    368\u001b[0m \u001b[38;5;28mself\u001b[39m\u001b[38;5;241m.\u001b[39mprepare_headers(headers)\n\u001b[1;32m    369\u001b[0m \u001b[38;5;28mself\u001b[39m\u001b[38;5;241m.\u001b[39mprepare_cookies(cookies)\n\u001b[0;32m--> 370\u001b[0m \u001b[38;5;28;43mself\u001b[39;49m\u001b[38;5;241;43m.\u001b[39;49m\u001b[43mprepare_body\u001b[49m\u001b[43m(\u001b[49m\u001b[43mdata\u001b[49m\u001b[43m,\u001b[49m\u001b[43m \u001b[49m\u001b[43mfiles\u001b[49m\u001b[43m,\u001b[49m\u001b[43m \u001b[49m\u001b[43mjson\u001b[49m\u001b[43m)\u001b[49m\n\u001b[1;32m    371\u001b[0m \u001b[38;5;28mself\u001b[39m\u001b[38;5;241m.\u001b[39mprepare_auth(auth, url)\n\u001b[1;32m    373\u001b[0m \u001b[38;5;66;03m# Note that prepare_auth must be last to enable authentication schemes\u001b[39;00m\n\u001b[1;32m    374\u001b[0m \u001b[38;5;66;03m# such as OAuth to work on a fully prepared request.\u001b[39;00m\n\u001b[1;32m    375\u001b[0m \n\u001b[1;32m    376\u001b[0m \u001b[38;5;66;03m# This MUST go after prepare_auth. Authenticators could add a hook\u001b[39;00m\n",
      "File \u001b[0;32m~/Desktop/GitHub/Projet-RNCP/.venv/lib/python3.10/site-packages/requests/models.py:510\u001b[0m, in \u001b[0;36mPreparedRequest.prepare_body\u001b[0;34m(self, data, files, json)\u001b[0m\n\u001b[1;32m    507\u001b[0m content_type \u001b[38;5;241m=\u001b[39m \u001b[38;5;124m\"\u001b[39m\u001b[38;5;124mapplication/json\u001b[39m\u001b[38;5;124m\"\u001b[39m\n\u001b[1;32m    509\u001b[0m \u001b[38;5;28;01mtry\u001b[39;00m:\n\u001b[0;32m--> 510\u001b[0m     body \u001b[38;5;241m=\u001b[39m \u001b[43mcomplexjson\u001b[49m\u001b[38;5;241;43m.\u001b[39;49m\u001b[43mdumps\u001b[49m\u001b[43m(\u001b[49m\u001b[43mjson\u001b[49m\u001b[43m,\u001b[49m\u001b[43m \u001b[49m\u001b[43mallow_nan\u001b[49m\u001b[38;5;241;43m=\u001b[39;49m\u001b[38;5;28;43;01mFalse\u001b[39;49;00m\u001b[43m)\u001b[49m\n\u001b[1;32m    511\u001b[0m \u001b[38;5;28;01mexcept\u001b[39;00m \u001b[38;5;167;01mValueError\u001b[39;00m \u001b[38;5;28;01mas\u001b[39;00m ve:\n\u001b[1;32m    512\u001b[0m     \u001b[38;5;28;01mraise\u001b[39;00m InvalidJSONError(ve, request\u001b[38;5;241m=\u001b[39m\u001b[38;5;28mself\u001b[39m)\n",
      "File \u001b[0;32m/Library/Frameworks/Python.framework/Versions/3.10/lib/python3.10/json/__init__.py:238\u001b[0m, in \u001b[0;36mdumps\u001b[0;34m(obj, skipkeys, ensure_ascii, check_circular, allow_nan, cls, indent, separators, default, sort_keys, **kw)\u001b[0m\n\u001b[1;32m    232\u001b[0m \u001b[38;5;28;01mif\u001b[39;00m \u001b[38;5;28mcls\u001b[39m \u001b[38;5;129;01mis\u001b[39;00m \u001b[38;5;28;01mNone\u001b[39;00m:\n\u001b[1;32m    233\u001b[0m     \u001b[38;5;28mcls\u001b[39m \u001b[38;5;241m=\u001b[39m JSONEncoder\n\u001b[1;32m    234\u001b[0m \u001b[38;5;28;01mreturn\u001b[39;00m \u001b[38;5;28;43mcls\u001b[39;49m\u001b[43m(\u001b[49m\n\u001b[1;32m    235\u001b[0m \u001b[43m    \u001b[49m\u001b[43mskipkeys\u001b[49m\u001b[38;5;241;43m=\u001b[39;49m\u001b[43mskipkeys\u001b[49m\u001b[43m,\u001b[49m\u001b[43m \u001b[49m\u001b[43mensure_ascii\u001b[49m\u001b[38;5;241;43m=\u001b[39;49m\u001b[43mensure_ascii\u001b[49m\u001b[43m,\u001b[49m\n\u001b[1;32m    236\u001b[0m \u001b[43m    \u001b[49m\u001b[43mcheck_circular\u001b[49m\u001b[38;5;241;43m=\u001b[39;49m\u001b[43mcheck_circular\u001b[49m\u001b[43m,\u001b[49m\u001b[43m \u001b[49m\u001b[43mallow_nan\u001b[49m\u001b[38;5;241;43m=\u001b[39;49m\u001b[43mallow_nan\u001b[49m\u001b[43m,\u001b[49m\u001b[43m \u001b[49m\u001b[43mindent\u001b[49m\u001b[38;5;241;43m=\u001b[39;49m\u001b[43mindent\u001b[49m\u001b[43m,\u001b[49m\n\u001b[1;32m    237\u001b[0m \u001b[43m    \u001b[49m\u001b[43mseparators\u001b[49m\u001b[38;5;241;43m=\u001b[39;49m\u001b[43mseparators\u001b[49m\u001b[43m,\u001b[49m\u001b[43m \u001b[49m\u001b[43mdefault\u001b[49m\u001b[38;5;241;43m=\u001b[39;49m\u001b[43mdefault\u001b[49m\u001b[43m,\u001b[49m\u001b[43m \u001b[49m\u001b[43msort_keys\u001b[49m\u001b[38;5;241;43m=\u001b[39;49m\u001b[43msort_keys\u001b[49m\u001b[43m,\u001b[49m\n\u001b[0;32m--> 238\u001b[0m \u001b[43m    \u001b[49m\u001b[38;5;241;43m*\u001b[39;49m\u001b[38;5;241;43m*\u001b[39;49m\u001b[43mkw\u001b[49m\u001b[43m)\u001b[49m\u001b[38;5;241;43m.\u001b[39;49m\u001b[43mencode\u001b[49m\u001b[43m(\u001b[49m\u001b[43mobj\u001b[49m\u001b[43m)\u001b[49m\n",
      "File \u001b[0;32m/Library/Frameworks/Python.framework/Versions/3.10/lib/python3.10/json/encoder.py:199\u001b[0m, in \u001b[0;36mJSONEncoder.encode\u001b[0;34m(self, o)\u001b[0m\n\u001b[1;32m    195\u001b[0m         \u001b[38;5;28;01mreturn\u001b[39;00m encode_basestring(o)\n\u001b[1;32m    196\u001b[0m \u001b[38;5;66;03m# This doesn't pass the iterator directly to ''.join() because the\u001b[39;00m\n\u001b[1;32m    197\u001b[0m \u001b[38;5;66;03m# exceptions aren't as detailed.  The list call should be roughly\u001b[39;00m\n\u001b[1;32m    198\u001b[0m \u001b[38;5;66;03m# equivalent to the PySequence_Fast that ''.join() would do.\u001b[39;00m\n\u001b[0;32m--> 199\u001b[0m chunks \u001b[38;5;241m=\u001b[39m \u001b[38;5;28;43mself\u001b[39;49m\u001b[38;5;241;43m.\u001b[39;49m\u001b[43miterencode\u001b[49m\u001b[43m(\u001b[49m\u001b[43mo\u001b[49m\u001b[43m,\u001b[49m\u001b[43m \u001b[49m\u001b[43m_one_shot\u001b[49m\u001b[38;5;241;43m=\u001b[39;49m\u001b[38;5;28;43;01mTrue\u001b[39;49;00m\u001b[43m)\u001b[49m\n\u001b[1;32m    200\u001b[0m \u001b[38;5;28;01mif\u001b[39;00m \u001b[38;5;129;01mnot\u001b[39;00m \u001b[38;5;28misinstance\u001b[39m(chunks, (\u001b[38;5;28mlist\u001b[39m, \u001b[38;5;28mtuple\u001b[39m)):\n\u001b[1;32m    201\u001b[0m     chunks \u001b[38;5;241m=\u001b[39m \u001b[38;5;28mlist\u001b[39m(chunks)\n",
      "File \u001b[0;32m/Library/Frameworks/Python.framework/Versions/3.10/lib/python3.10/json/encoder.py:257\u001b[0m, in \u001b[0;36mJSONEncoder.iterencode\u001b[0;34m(self, o, _one_shot)\u001b[0m\n\u001b[1;32m    252\u001b[0m \u001b[38;5;28;01melse\u001b[39;00m:\n\u001b[1;32m    253\u001b[0m     _iterencode \u001b[38;5;241m=\u001b[39m _make_iterencode(\n\u001b[1;32m    254\u001b[0m         markers, \u001b[38;5;28mself\u001b[39m\u001b[38;5;241m.\u001b[39mdefault, _encoder, \u001b[38;5;28mself\u001b[39m\u001b[38;5;241m.\u001b[39mindent, floatstr,\n\u001b[1;32m    255\u001b[0m         \u001b[38;5;28mself\u001b[39m\u001b[38;5;241m.\u001b[39mkey_separator, \u001b[38;5;28mself\u001b[39m\u001b[38;5;241m.\u001b[39mitem_separator, \u001b[38;5;28mself\u001b[39m\u001b[38;5;241m.\u001b[39msort_keys,\n\u001b[1;32m    256\u001b[0m         \u001b[38;5;28mself\u001b[39m\u001b[38;5;241m.\u001b[39mskipkeys, _one_shot)\n\u001b[0;32m--> 257\u001b[0m \u001b[38;5;28;01mreturn\u001b[39;00m \u001b[43m_iterencode\u001b[49m\u001b[43m(\u001b[49m\u001b[43mo\u001b[49m\u001b[43m,\u001b[49m\u001b[43m \u001b[49m\u001b[38;5;241;43m0\u001b[39;49m\u001b[43m)\u001b[49m\n",
      "File \u001b[0;32m/Library/Frameworks/Python.framework/Versions/3.10/lib/python3.10/json/encoder.py:179\u001b[0m, in \u001b[0;36mJSONEncoder.default\u001b[0;34m(self, o)\u001b[0m\n\u001b[1;32m    160\u001b[0m \u001b[38;5;28;01mdef\u001b[39;00m\u001b[38;5;250m \u001b[39m\u001b[38;5;21mdefault\u001b[39m(\u001b[38;5;28mself\u001b[39m, o):\n\u001b[1;32m    161\u001b[0m \u001b[38;5;250m    \u001b[39m\u001b[38;5;124;03m\"\"\"Implement this method in a subclass such that it returns\u001b[39;00m\n\u001b[1;32m    162\u001b[0m \u001b[38;5;124;03m    a serializable object for ``o``, or calls the base implementation\u001b[39;00m\n\u001b[1;32m    163\u001b[0m \u001b[38;5;124;03m    (to raise a ``TypeError``).\u001b[39;00m\n\u001b[0;32m   (...)\u001b[0m\n\u001b[1;32m    177\u001b[0m \n\u001b[1;32m    178\u001b[0m \u001b[38;5;124;03m    \"\"\"\u001b[39;00m\n\u001b[0;32m--> 179\u001b[0m     \u001b[38;5;28;01mraise\u001b[39;00m \u001b[38;5;167;01mTypeError\u001b[39;00m(\u001b[38;5;124mf\u001b[39m\u001b[38;5;124m'\u001b[39m\u001b[38;5;124mObject of type \u001b[39m\u001b[38;5;132;01m{\u001b[39;00mo\u001b[38;5;241m.\u001b[39m\u001b[38;5;18m__class__\u001b[39m\u001b[38;5;241m.\u001b[39m\u001b[38;5;18m__name__\u001b[39m\u001b[38;5;132;01m}\u001b[39;00m\u001b[38;5;124m \u001b[39m\u001b[38;5;124m'\u001b[39m\n\u001b[1;32m    180\u001b[0m                     \u001b[38;5;124mf\u001b[39m\u001b[38;5;124m'\u001b[39m\u001b[38;5;124mis not JSON serializable\u001b[39m\u001b[38;5;124m'\u001b[39m)\n",
      "\u001b[0;31mTypeError\u001b[0m: Object of type ndarray is not JSON serializable"
     ]
    }
   ],
   "source": [
    "# from huggingface_hub import InferenceClient\n",
    "\n",
    "# HF_token = open(\"../token_hf.txt\", \"r\").read().strip()\n",
    "# client = InferenceClient(\n",
    "#     provider=\"novita\",\n",
    "#     api_key=HF_token,\n",
    "# )\n",
    "\n",
    "# completion = client.chat.completions.create(\n",
    "#     model=\"mistralai/Mistral-7B-Instruct-v0.3\",\n",
    "#     messages=[\n",
    "#         {\"role\": \"system\", \n",
    "#         \"content\": \"Tu es un data scientist spécialisé en NLP.\"},\n",
    "#         {\n",
    "#             \"role\": \"user \",\n",
    "#             \"content\": \" Résume en un mots les mots clés suivants : \" + res_lda['Topic_Keywords'].unique()\n",
    "#         }\n",
    "#     ],temperature=0.0\n",
    "# )\n",
    "\n",
    "# print(completion.choices[0].message)"
   ]
  },
  {
   "cell_type": "code",
   "execution_count": 142,
   "metadata": {},
   "outputs": [
    {
     "name": "stdout",
     "output_type": "stream",
     "text": [
      "________________Topic Keywords: vidéo, coupe, cheveux, childish, gambino, artiste, arrière, bien, super, faire\n",
      "The subject identified by the model is \"Childish Gambino, Artist, Rear View, Good, Super, Haircut, Video\"\n",
      "\n",
      "________________Topic Keywords: vidéo, faire, bien, incroyable, série, glover, childish, vraiment, donald, atlanta\n",
      " The subject identified by the model is a childish series called \"Atlanta\" featuring Donald Glover.\n",
      "\n",
      "________________Topic Keywords: vidéo, tyler, creator, artiste, vraiment, faire, super, bien, video, trop\n",
      "The subject identified by the model based on the given words is \"creator\" or \"artiste\".\n",
      "\n",
      "________________Topic Keywords: vidéo, artiste, bien, trop, dire, faire, connaître, film, histoire, voir\n",
      " The subject identified by the model based on the given words could be a movie, artist, piece of art, film, story, or history that is too difficult to understand or know about without seeing it.\n",
      "\n",
      "________________Topic Keywords: vidéo, chill, artiste, dish, kendrick, flow, troy, lamar, video, adorer\n",
      "The subject identified by the model is Kendrick Lamar, a popular hip-hop artist known for his unique flow and deep, introspective lyrics.\n",
      "\n"
     ]
    }
   ],
   "source": [
    "# for i in res_lda['Topic_Keywords'].value_counts().index.tolist():\n",
    "#     print(\"________________Topic Keywords:\", i)\n",
    "#     completion = client.chat.completions.create(\n",
    "#     model=\"mistralai/Mistral-7B-Instruct-v0.3\",\n",
    "#     messages=[\n",
    "#         {\"role\": \"system\", \n",
    "#         \"content\": \"Tu es un data scientist spécialisé en NLP.\"},\n",
    "#         {\n",
    "#             \"role\": \"user \",\n",
    "#             \"content\": \" Nomme le sujet identifié par le modèle en te basant sur les mots suivants: \" + i\n",
    "#         }\n",
    "#     ], temperature=0.0\n",
    "# )\n",
    "#     print(completion.choices[0].message.content)"
   ]
  }
 ],
 "metadata": {
  "kernelspec": {
   "display_name": ".venv",
   "language": "python",
   "name": "python3"
  },
  "language_info": {
   "codemirror_mode": {
    "name": "ipython",
    "version": 3
   },
   "file_extension": ".py",
   "mimetype": "text/x-python",
   "name": "python",
   "nbconvert_exporter": "python",
   "pygments_lexer": "ipython3",
   "version": "3.10.6"
  }
 },
 "nbformat": 4,
 "nbformat_minor": 2
}
