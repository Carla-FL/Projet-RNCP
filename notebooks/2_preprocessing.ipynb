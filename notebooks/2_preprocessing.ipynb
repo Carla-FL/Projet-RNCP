{
 "cells": [
  {
   "cell_type": "code",
   "execution_count": null,
   "metadata": {},
   "outputs": [],
   "source": [
    "import spacy\n",
    "import re\n",
    "nlp = spacy.load(\"fr_core_news_sm\")"
   ]
  },
  {
   "cell_type": "code",
   "execution_count": null,
   "metadata": {},
   "outputs": [],
   "source": []
  },
  {
   "cell_type": "code",
   "execution_count": null,
   "metadata": {},
   "outputs": [],
   "source": [
    "pattern = re.compile(r\"(http://\\S+|@\\S+|.*\\d.*|.*\\#.*)\")  # Regex pour les liens et mentions le chiffre les #\n",
    "def preprocessing(text, join=True):\n",
    "    # Tokenisation et nettoyage en une seule passe\n",
    "    tokens = [pattern.sub(\"\", token.lemma_.lower())  for token in nlp(text) if not token.is_stop and len(token) > 3]\n",
    "    \n",
    "    # Filtrer les tokens vides après suppression des liens/mentions\n",
    "    cleaned_tokens = [token for token in tokens if token]\n",
    "    \n",
    "    return \" \".join(cleaned_tokens) if join else cleaned_tokens"
   ]
  },
  {
   "cell_type": "code",
   "execution_count": null,
   "metadata": {},
   "outputs": [],
   "source": [
    "df['comment_clean'] = df['comment'].apply(preprocessing, join=False)\n",
    "df.head(50)"
   ]
  }
 ],
 "metadata": {
  "kernelspec": {
   "display_name": ".venv",
   "language": "python",
   "name": "python3"
  },
  "language_info": {
   "name": "python",
   "version": "3.9.13"
  }
 },
 "nbformat": 4,
 "nbformat_minor": 2
}
