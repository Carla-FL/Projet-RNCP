{
 "cells": [
  {
   "cell_type": "code",
   "execution_count": 1,
   "metadata": {},
   "outputs": [],
   "source": [
    "import os\n",
    "import re\n",
    "import json\n",
    "import pandas as pd\n",
    "import google_auth_oauthlib.flow\n",
    "import googleapiclient.discovery\n",
    "import googleapiclient.errors\n",
    "import time\n",
    "import matplotlib.pyplot as plt\n",
    "from googleapiclient.discovery import build\n",
    "\n",
    "scopes = [\"https://www.googleapis.com/auth/youtube.readonly\"]"
   ]
  },
  {
   "cell_type": "markdown",
   "metadata": {},
   "source": [
    "https://developers.google.com/youtube/v3/docs/comments?hl=fr#snippet.updatedAt"
   ]
  },
  {
   "cell_type": "markdown",
   "metadata": {},
   "source": [
    "# On récupère l'id de la vidéo youtube"
   ]
  },
  {
   "cell_type": "code",
   "execution_count": 2,
   "metadata": {},
   "outputs": [
    {
     "name": "stdout",
     "output_type": "stream",
     "text": [
      "Valid YouTube URL\n",
      "Valid video ID: 24Ob5JxhF4s\n"
     ]
    }
   ],
   "source": [
    "# https://www.youtube.com/watch?v=24Ob5JxhF4s\n",
    "def url2id():\n",
    "    video_url = input(\"Enter the video URL: \")\n",
    "    pattern = r'^(https?:\\/\\/)?(www\\.)?(youtube\\.com\\/(watch\\?v=|embed\\/|v\\/)|youtu\\.be\\/)([\\w-]{11})(\\S+)?$'\n",
    "    if re.match(pattern, video_url) :\n",
    "        print(\"Valid YouTube URL\")\n",
    "    else:\n",
    "        print(\"Error : invalid YouTube URL\")\n",
    "\n",
    "    video_id = video_url.split(\"v=\")[-1]\n",
    "    # print(\"Extracted video ID:\", video_id)\n",
    "\n",
    "    # Check if the video ID is valid\n",
    "    if len(video_id) == 11:\n",
    "        print(\"Valid video ID:\", video_id)\n",
    "        return video_id\n",
    "    else:\n",
    "        print(\"Error : invalid video ID. Please enter a valid YouTube video URL.\")\n",
    "\n",
    "id=url2id()"
   ]
  },
  {
   "cell_type": "markdown",
   "metadata": {},
   "source": [
    "# On récupère les commentaires de la vidéo"
   ]
  },
  {
   "cell_type": "code",
   "execution_count": 27,
   "metadata": {},
   "outputs": [
    {
     "name": "stdout",
     "output_type": "stream",
     "text": [
      "                  channelId      videoId         author           publishedAt  \\\n",
      "0  UCK3inMNRNAVUleEbpDU1k2g  24Ob5JxhF4s       @SEBFRIT  2025-06-02T19:21:45Z   \n",
      "1  UCK3inMNRNAVUleEbpDU1k2g  24Ob5JxhF4s   @guishoo4700  2025-06-30T18:45:12Z   \n",
      "2  UCK3inMNRNAVUleEbpDU1k2g  24Ob5JxhF4s  @Remi-B-Goode  2025-06-30T16:35:49Z   \n",
      "3  UCK3inMNRNAVUleEbpDU1k2g  24Ob5JxhF4s         @Guaph  2025-06-29T20:17:58Z   \n",
      "4  UCK3inMNRNAVUleEbpDU1k2g  24Ob5JxhF4s    @rockman156  2025-06-29T19:05:12Z   \n",
      "\n",
      "                                             comment          extractedAt  \n",
      "0  Merci à Odoo le sponsor cette vidéo ! Pour déc...  2025-07-01 11:46:10  \n",
      "1           Fait une vidéo sur Tyler the creator stp  2025-07-01 11:46:10  \n",
      "2                                 Lol le disclaimer😂  2025-07-01 11:46:10  \n",
      "3     où peut-on voir la série \"Earn and Alfred\" ???  2025-07-01 11:46:10  \n",
      "4  C'est pas un re upload ? Impression de déjà vu...  2025-07-01 11:46:10  \n",
      "Total de commentaires récupérés : 1731\n"
     ]
    }
   ],
   "source": [
    "from googleapiclient.discovery import build\n",
    "\n",
    "with open('../secret_clientid.txt', 'r') as file:\n",
    "        DEVELOPER_KEY = file.read()\n",
    "# Configurez votre clé API et initialisez l'API YouTube\n",
    "api_key = DEVELOPER_KEY\n",
    "youtube = build(\"youtube\", \"v3\", developerKey=api_key)\n",
    "\n",
    "# Paramètres initiaux pour la requête\n",
    "video_id = id\n",
    "comments_data = []\n",
    "next_page_token = None\n",
    "\n",
    "while True:\n",
    "    response = youtube.commentThreads().list(\n",
    "        part=\"snippet\",\n",
    "        videoId=video_id,\n",
    "        maxResults=100,\n",
    "        order=\"time\",\n",
    "        textFormat=\"plainText\",\n",
    "        pageToken=next_page_token\n",
    "    ).execute()\n",
    "\n",
    "    # Ajouter les commentaires récupérés à la liste\n",
    "    extraction_date = time.strftime(\"%Y-%m-%d %H:%M:%S\", time.localtime())\n",
    "    for item in response.get(\"items\", []):\n",
    "        comment_info = item[\"snippet\"][\"topLevelComment\"][\"snippet\"]\n",
    "        comments_data.append({\n",
    "            \"channelId\": comment_info.get(\"channelId\"),\n",
    "            \"videoId\": comment_info.get(\"videoId\"),\t\n",
    "            \"author\": comment_info.get(\"authorDisplayName\"),\n",
    "            \"publishedAt\": comment_info.get(\"publishedAt\"),\n",
    "            \"comment\": comment_info.get(\"textDisplay\"),\n",
    "            \"extractedAt\": extraction_date\n",
    "        }) # ajouter un id\n",
    "\n",
    "    # Vérifier s'il y a une page suivante\n",
    "    next_page_token = response.get(\"nextPageToken\")\n",
    "    if not next_page_token:\n",
    "        break\n",
    "    time.sleep(1)\n",
    "\n",
    "# Création du DataFrame à partir des données collectées\n",
    "df = pd.DataFrame(comments_data)\n",
    "print(df.head())\n",
    "print(f\"Total de commentaires récupérés : {len(comments_data)}\")\n",
    "\n",
    "# retirer le commentaire du youtubeur\n"
   ]
  },
  {
   "cell_type": "code",
   "execution_count": 28,
   "metadata": {},
   "outputs": [
    {
     "data": {
      "text/html": [
       "<div>\n",
       "<style scoped>\n",
       "    .dataframe tbody tr th:only-of-type {\n",
       "        vertical-align: middle;\n",
       "    }\n",
       "\n",
       "    .dataframe tbody tr th {\n",
       "        vertical-align: top;\n",
       "    }\n",
       "\n",
       "    .dataframe thead th {\n",
       "        text-align: right;\n",
       "    }\n",
       "</style>\n",
       "<table border=\"1\" class=\"dataframe\">\n",
       "  <thead>\n",
       "    <tr style=\"text-align: right;\">\n",
       "      <th></th>\n",
       "      <th>channelId</th>\n",
       "      <th>videoId</th>\n",
       "      <th>author</th>\n",
       "      <th>publishedAt</th>\n",
       "      <th>comment</th>\n",
       "      <th>extractedAt</th>\n",
       "    </tr>\n",
       "  </thead>\n",
       "  <tbody>\n",
       "    <tr>\n",
       "      <th>0</th>\n",
       "      <td>UCK3inMNRNAVUleEbpDU1k2g</td>\n",
       "      <td>24Ob5JxhF4s</td>\n",
       "      <td>@SEBFRIT</td>\n",
       "      <td>2025-06-02T19:21:45Z</td>\n",
       "      <td>Merci à Odoo le sponsor cette vidéo ! Pour déc...</td>\n",
       "      <td>2025-07-01 11:46:10</td>\n",
       "    </tr>\n",
       "    <tr>\n",
       "      <th>1</th>\n",
       "      <td>UCK3inMNRNAVUleEbpDU1k2g</td>\n",
       "      <td>24Ob5JxhF4s</td>\n",
       "      <td>@guishoo4700</td>\n",
       "      <td>2025-06-30T18:45:12Z</td>\n",
       "      <td>Fait une vidéo sur Tyler the creator stp</td>\n",
       "      <td>2025-07-01 11:46:10</td>\n",
       "    </tr>\n",
       "    <tr>\n",
       "      <th>2</th>\n",
       "      <td>UCK3inMNRNAVUleEbpDU1k2g</td>\n",
       "      <td>24Ob5JxhF4s</td>\n",
       "      <td>@Remi-B-Goode</td>\n",
       "      <td>2025-06-30T16:35:49Z</td>\n",
       "      <td>Lol le disclaimer😂</td>\n",
       "      <td>2025-07-01 11:46:10</td>\n",
       "    </tr>\n",
       "    <tr>\n",
       "      <th>3</th>\n",
       "      <td>UCK3inMNRNAVUleEbpDU1k2g</td>\n",
       "      <td>24Ob5JxhF4s</td>\n",
       "      <td>@Guaph</td>\n",
       "      <td>2025-06-29T20:17:58Z</td>\n",
       "      <td>où peut-on voir la série \"Earn and Alfred\" ???</td>\n",
       "      <td>2025-07-01 11:46:10</td>\n",
       "    </tr>\n",
       "    <tr>\n",
       "      <th>4</th>\n",
       "      <td>UCK3inMNRNAVUleEbpDU1k2g</td>\n",
       "      <td>24Ob5JxhF4s</td>\n",
       "      <td>@rockman156</td>\n",
       "      <td>2025-06-29T19:05:12Z</td>\n",
       "      <td>C'est pas un re upload ? Impression de déjà vu...</td>\n",
       "      <td>2025-07-01 11:46:10</td>\n",
       "    </tr>\n",
       "    <tr>\n",
       "      <th>...</th>\n",
       "      <td>...</td>\n",
       "      <td>...</td>\n",
       "      <td>...</td>\n",
       "      <td>...</td>\n",
       "      <td>...</td>\n",
       "      <td>...</td>\n",
       "    </tr>\n",
       "    <tr>\n",
       "      <th>1726</th>\n",
       "      <td>UCK3inMNRNAVUleEbpDU1k2g</td>\n",
       "      <td>24Ob5JxhF4s</td>\n",
       "      <td>@sos3753</td>\n",
       "      <td>2025-06-02T17:49:39Z</td>\n",
       "      <td>Heyyy</td>\n",
       "      <td>2025-07-01 11:46:31</td>\n",
       "    </tr>\n",
       "    <tr>\n",
       "      <th>1727</th>\n",
       "      <td>UCK3inMNRNAVUleEbpDU1k2g</td>\n",
       "      <td>24Ob5JxhF4s</td>\n",
       "      <td>@bobonedegato</td>\n",
       "      <td>2025-06-02T17:49:38Z</td>\n",
       "      <td>Ça va me plaire ça</td>\n",
       "      <td>2025-07-01 11:46:31</td>\n",
       "    </tr>\n",
       "    <tr>\n",
       "      <th>1728</th>\n",
       "      <td>UCK3inMNRNAVUleEbpDU1k2g</td>\n",
       "      <td>24Ob5JxhF4s</td>\n",
       "      <td>@omasarys</td>\n",
       "      <td>2025-06-02T17:49:36Z</td>\n",
       "      <td>Ouii de nouvelles vidéos !!</td>\n",
       "      <td>2025-07-01 11:46:31</td>\n",
       "    </tr>\n",
       "    <tr>\n",
       "      <th>1729</th>\n",
       "      <td>UCK3inMNRNAVUleEbpDU1k2g</td>\n",
       "      <td>24Ob5JxhF4s</td>\n",
       "      <td>@globglobgabgalab4771</td>\n",
       "      <td>2025-06-02T17:49:35Z</td>\n",
       "      <td>Premier</td>\n",
       "      <td>2025-07-01 11:46:31</td>\n",
       "    </tr>\n",
       "    <tr>\n",
       "      <th>1730</th>\n",
       "      <td>UCK3inMNRNAVUleEbpDU1k2g</td>\n",
       "      <td>24Ob5JxhF4s</td>\n",
       "      <td>@akissiDraw</td>\n",
       "      <td>2025-06-02T17:49:33Z</td>\n",
       "      <td>Jai sauté sur cette vidéo</td>\n",
       "      <td>2025-07-01 11:46:31</td>\n",
       "    </tr>\n",
       "  </tbody>\n",
       "</table>\n",
       "<p>1731 rows × 6 columns</p>\n",
       "</div>"
      ],
      "text/plain": [
       "                     channelId      videoId                 author  \\\n",
       "0     UCK3inMNRNAVUleEbpDU1k2g  24Ob5JxhF4s               @SEBFRIT   \n",
       "1     UCK3inMNRNAVUleEbpDU1k2g  24Ob5JxhF4s           @guishoo4700   \n",
       "2     UCK3inMNRNAVUleEbpDU1k2g  24Ob5JxhF4s          @Remi-B-Goode   \n",
       "3     UCK3inMNRNAVUleEbpDU1k2g  24Ob5JxhF4s                 @Guaph   \n",
       "4     UCK3inMNRNAVUleEbpDU1k2g  24Ob5JxhF4s            @rockman156   \n",
       "...                        ...          ...                    ...   \n",
       "1726  UCK3inMNRNAVUleEbpDU1k2g  24Ob5JxhF4s               @sos3753   \n",
       "1727  UCK3inMNRNAVUleEbpDU1k2g  24Ob5JxhF4s          @bobonedegato   \n",
       "1728  UCK3inMNRNAVUleEbpDU1k2g  24Ob5JxhF4s              @omasarys   \n",
       "1729  UCK3inMNRNAVUleEbpDU1k2g  24Ob5JxhF4s  @globglobgabgalab4771   \n",
       "1730  UCK3inMNRNAVUleEbpDU1k2g  24Ob5JxhF4s            @akissiDraw   \n",
       "\n",
       "               publishedAt                                            comment  \\\n",
       "0     2025-06-02T19:21:45Z  Merci à Odoo le sponsor cette vidéo ! Pour déc...   \n",
       "1     2025-06-30T18:45:12Z           Fait une vidéo sur Tyler the creator stp   \n",
       "2     2025-06-30T16:35:49Z                                 Lol le disclaimer😂   \n",
       "3     2025-06-29T20:17:58Z     où peut-on voir la série \"Earn and Alfred\" ???   \n",
       "4     2025-06-29T19:05:12Z  C'est pas un re upload ? Impression de déjà vu...   \n",
       "...                    ...                                                ...   \n",
       "1726  2025-06-02T17:49:39Z                                              Heyyy   \n",
       "1727  2025-06-02T17:49:38Z                                 Ça va me plaire ça   \n",
       "1728  2025-06-02T17:49:36Z                        Ouii de nouvelles vidéos !!   \n",
       "1729  2025-06-02T17:49:35Z                                            Premier   \n",
       "1730  2025-06-02T17:49:33Z                          Jai sauté sur cette vidéo   \n",
       "\n",
       "              extractedAt  \n",
       "0     2025-07-01 11:46:10  \n",
       "1     2025-07-01 11:46:10  \n",
       "2     2025-07-01 11:46:10  \n",
       "3     2025-07-01 11:46:10  \n",
       "4     2025-07-01 11:46:10  \n",
       "...                   ...  \n",
       "1726  2025-07-01 11:46:31  \n",
       "1727  2025-07-01 11:46:31  \n",
       "1728  2025-07-01 11:46:31  \n",
       "1729  2025-07-01 11:46:31  \n",
       "1730  2025-07-01 11:46:31  \n",
       "\n",
       "[1731 rows x 6 columns]"
      ]
     },
     "metadata": {},
     "output_type": "display_data"
    }
   ],
   "source": [
    "display(df)"
   ]
  },
  {
   "cell_type": "code",
   "execution_count": 30,
   "metadata": {},
   "outputs": [],
   "source": [
    "df['publishedAt']= pd.to_datetime(df['publishedAt'], format='ISO8601')  # Convertir la colonne 'publishedAt' en datetime\n",
    "df['extractedAt'] = pd.to_datetime(df['extractedAt'], format='%Y-%m-%d %H:%M:%S')  # Convertir la colonne 'extractedAt' en datetime\n",
    "df['channelId'] = df['channelId'].astype(str)  # Convertir la colonne 'channelId' en chaîne de caractères\n",
    "df['videoId'] = df['videoId'].astype(str)  # Convertir la colonne 'videoId' en chaîne de caractères\n",
    "df['author'] = df['author'].astype(str)  # Convertir la colonne 'author' en chaîne de caractères\n",
    "df['comment'] = df['comment'].astype(str)  # Convertir la colonne 'comment' en chaîne de caractères\n"
   ]
  },
  {
   "cell_type": "code",
   "execution_count": 31,
   "metadata": {},
   "outputs": [
    {
     "data": {
      "text/plain": [
       "channelId                   object\n",
       "videoId                     object\n",
       "author                      object\n",
       "publishedAt    datetime64[ns, UTC]\n",
       "comment                     object\n",
       "extractedAt         datetime64[ns]\n",
       "dtype: object"
      ]
     },
     "execution_count": 31,
     "metadata": {},
     "output_type": "execute_result"
    }
   ],
   "source": [
    "df.dtypes"
   ]
  },
  {
   "cell_type": "markdown",
   "metadata": {},
   "source": [
    "# Écrirture du fichier"
   ]
  },
  {
   "cell_type": "code",
   "execution_count": 32,
   "metadata": {},
   "outputs": [],
   "source": [
    "df.to_csv('database_raw.csv', index=False)"
   ]
  }
 ],
 "metadata": {
  "kernelspec": {
   "display_name": ".venv",
   "language": "python",
   "name": "python3"
  },
  "language_info": {
   "codemirror_mode": {
    "name": "ipython",
    "version": 3
   },
   "file_extension": ".py",
   "mimetype": "text/x-python",
   "name": "python",
   "nbconvert_exporter": "python",
   "pygments_lexer": "ipython3",
   "version": "3.10.6"
  }
 },
 "nbformat": 4,
 "nbformat_minor": 2
}
