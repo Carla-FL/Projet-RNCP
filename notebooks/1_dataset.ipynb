{
 "cells": [
  {
   "cell_type": "code",
   "execution_count": null,
   "metadata": {},
   "outputs": [],
   "source": [
    "import os\n",
    "import json\n",
    "import pandas as pd\n",
    "import google_auth_oauthlib.flow\n",
    "import googleapiclient.discovery\n",
    "import googleapiclient.errors\n",
    "import time\n",
    "import matplotlib.pyplot as plt\n",
    "from googleapiclient.discovery import build\n",
    "\n",
    "scopes = [\"https://www.googleapis.com/auth/youtube.readonly\"]"
   ]
  },
  {
   "cell_type": "code",
   "execution_count": null,
   "metadata": {},
   "outputs": [],
   "source": [
    "from googleapiclient.discovery import build\n",
    "\n",
    "with open('secret_clientid.txt', 'r') as file:\n",
    "        DEVELOPER_KEY = file.read()\n",
    "# Configurez votre clé API et initialisez l'API YouTube\n",
    "api_key = DEVELOPER_KEY\n",
    "youtube = build(\"youtube\", \"v3\", developerKey=api_key)\n",
    "\n",
    "# Paramètres initiaux pour la requête\n",
    "video_id = \"x7JnA8ssuqY\"\n",
    "comments_data = []\n",
    "next_page_token = None\n",
    "\n",
    "while True:\n",
    "    response = youtube.commentThreads().list(\n",
    "        part=\"snippet\",\n",
    "        videoId=video_id,\n",
    "        maxResults=100,\n",
    "        order=\"time\",\n",
    "        textFormat=\"plainText\",\n",
    "        pageToken=next_page_token\n",
    "    ).execute()\n",
    "\n",
    "    # Ajouter les commentaires récupérés à la liste\n",
    "    for item in response.get(\"items\", []):\n",
    "        comment_info = item[\"snippet\"][\"topLevelComment\"][\"snippet\"]\n",
    "        comments_data.append({\n",
    "            \"author\": comment_info.get(\"authorDisplayName\"),\n",
    "            \"publishedAt\": comment_info.get(\"publishedAt\"),\n",
    "            \"comment\": comment_info.get(\"textDisplay\")\n",
    "        })\n",
    "\n",
    "    # Vérifier s'il y a une page suivante\n",
    "    next_page_token = response.get(\"nextPageToken\")\n",
    "    if not next_page_token:\n",
    "        break\n",
    "    time.sleep(1)\n",
    "\n",
    "# Création du DataFrame à partir des données collectées\n",
    "df = pd.DataFrame(comments_data)\n",
    "print(df.head())\n",
    "print(f\"Total de commentaires récupérés : {len(comments_data)}\")\n"
   ]
  }
 ],
 "metadata": {
  "kernelspec": {
   "display_name": ".venv",
   "language": "python",
   "name": "python3"
  },
  "language_info": {
   "name": "python",
   "version": "3.9.13"
  }
 },
 "nbformat": 4,
 "nbformat_minor": 2
}
